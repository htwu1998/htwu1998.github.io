{
 "cells": [
  {
   "cell_type": "markdown",
   "id": "d9597b53",
   "metadata": {
    "heading_collapsed": true
   },
   "source": [
    "## Building Query Vector"
   ]
  },
  {
   "cell_type": "markdown",
   "id": "ca7f50a0",
   "metadata": {
    "heading_collapsed": true,
    "hidden": true
   },
   "source": [
    "### Data Preprocessing"
   ]
  },
  {
   "cell_type": "code",
   "execution_count": 1,
   "id": "b9831eda",
   "metadata": {
    "ExecuteTime": {
     "end_time": "2021-05-11T18:44:11.690012Z",
     "start_time": "2021-05-11T18:43:57.237167Z"
    },
    "hidden": true
   },
   "outputs": [],
   "source": [
    "# load data\n",
    "import pandas as pd\n",
    "df = pd.read_excel('data/Behold+product+data+04262021.xlsx')\n",
    "feature_vectors = pd.read_csv('data/feature_vectors.csv', index_col=0)\n",
    "df.drop(columns=['brand_name', 'created_at', 'brand_canonical_url', 'product_active', 'brand_description'], inplace=True)\n",
    "tags = pd.read_csv('data/usc_additional_tags USC.csv')\n",
    "brands = pd.read_csv('data/behold_brands USC.csv')"
   ]
  },
  {
   "cell_type": "code",
   "execution_count": 2,
   "id": "82cbfc02",
   "metadata": {
    "ExecuteTime": {
     "end_time": "2021-05-11T18:44:12.187310Z",
     "start_time": "2021-05-11T18:44:11.691777Z"
    },
    "hidden": true
   },
   "outputs": [],
   "source": [
    "# concat information in different groups\n",
    "df['all_info'] = df['brand'].fillna('').astype('str') + ' ' + \\\n",
    "                    df['brand_category'].fillna('').astype('str') + ' ' + \\\n",
    "                    df['name'].fillna('').astype('str') + ' ' + \\\n",
    "                    df['details'].fillna('').astype('str') + ' ' + \\\n",
    "                    df['description'].fillna('').astype('str')\n",
    "\n",
    "def remove_punctuations(text):\n",
    "        ''' remove unnecessary punctuations in all lines '''\n",
    "        punctuations = ['\\n',',','.','!','\"','*','(',')', '\\\\','@', '#','/','\\xa0',\n",
    "                        ':','_','>','<',';','|','&','?','^','Unknown']\n",
    "        for p in punctuations:\n",
    "            text = text.replace(p,' ')    \n",
    "        return text\n",
    "    \n",
    "df['all_info'] = df['all_info'].apply(remove_punctuations)"
   ]
  },
  {
   "cell_type": "markdown",
   "id": "3cc92639",
   "metadata": {
    "heading_collapsed": true,
    "hidden": true
   },
   "source": [
    "### Create Features for Brand Names"
   ]
  },
  {
   "cell_type": "code",
   "execution_count": 3,
   "id": "0c8eb12c",
   "metadata": {
    "ExecuteTime": {
     "end_time": "2021-05-11T18:44:13.668384Z",
     "start_time": "2021-05-11T18:44:12.190302Z"
    },
    "hidden": true
   },
   "outputs": [],
   "source": [
    "# create one-hot-encoding for top 50 brand\n",
    "df2 = df.copy()\n",
    "top50_col = list(df['brand'].value_counts()[:50].index)\n",
    "df['brand'] = df['brand'].map(lambda x: str(x) if x in top50_col else 'other_brands')\n",
    "\n",
    "\n",
    "# create vectors for words in the brand name\n",
    "from sklearn.feature_extraction.text import CountVectorizer\n",
    "vectorizer = CountVectorizer(stop_words=None)\n",
    "X = vectorizer.fit_transform(df['brand'])\n",
    "brand_vector = pd.DataFrame(X.toarray(), columns=vectorizer.get_feature_names())\n",
    "\n",
    "# combine the brand vector\n",
    "final_vectors = pd.concat([feature_vectors, brand_vector], axis=1)"
   ]
  },
  {
   "cell_type": "markdown",
   "id": "a939113a",
   "metadata": {
    "heading_collapsed": true,
    "hidden": true
   },
   "source": [
    "### Categorize All Products"
   ]
  },
  {
   "cell_type": "code",
   "execution_count": 4,
   "id": "5e472452",
   "metadata": {
    "ExecuteTime": {
     "end_time": "2021-05-11T18:44:14.748284Z",
     "start_time": "2021-05-11T18:44:13.672446Z"
    },
    "hidden": true
   },
   "outputs": [],
   "source": [
    "# transforming all detailed types into accessory\n",
    "final_vectors.rename(columns={'accessory':'other_accessory'}, inplace=True)\n",
    "final_vectors['accessory'] = final_vectors['other_accessory'] + final_vectors['bag'] + \\\n",
    "                            final_vectors['intimate'] + final_vectors['outerwear'] + final_vectors['jewelry']\n",
    "\n",
    "# map all columns to product dataset\n",
    "df['brand'] = df2['brand']\n",
    "df = pd.concat([df, final_vectors\\\n",
    "                [['uncategorized', 'accessory', 'top', 'bottom', 'shoe', 'onepiece']]], axis=1)"
   ]
  },
  {
   "cell_type": "code",
   "execution_count": 5,
   "id": "0f7cc887",
   "metadata": {
    "ExecuteTime": {
     "end_time": "2021-05-11T18:44:23.571924Z",
     "start_time": "2021-05-11T18:44:14.750841Z"
    },
    "hidden": true
   },
   "outputs": [],
   "source": [
    "# save results\n",
    "final_vectors.to_csv('data/final_vectors.csv')\n",
    "df.to_csv('data/rec_product.csv')"
   ]
  },
  {
   "cell_type": "markdown",
   "id": "31999a86",
   "metadata": {
    "heading_collapsed": true,
    "hidden": true
   },
   "source": [
    "### Build a word vector for all other keywords"
   ]
  },
  {
   "cell_type": "code",
   "execution_count": 6,
   "id": "14bbe7aa",
   "metadata": {
    "ExecuteTime": {
     "end_time": "2021-05-11T18:44:28.708832Z",
     "start_time": "2021-05-11T18:44:23.574184Z"
    },
    "hidden": true
   },
   "outputs": [
    {
     "data": {
      "text/plain": [
       "(61355, 1722)"
      ]
     },
     "execution_count": 6,
     "metadata": {},
     "output_type": "execute_result"
    }
   ],
   "source": [
    "# create vectors for words in the brand name\n",
    "from sklearn.feature_extraction.text import CountVectorizer\n",
    "vectorizer = CountVectorizer(stop_words='english', token_pattern=r'(?u)\\b(?![0-9])\\w\\w+\\b', min_df=300)\n",
    "X = vectorizer.fit_transform(df['all_info'])\n",
    "word_vector = pd.DataFrame(X.toarray(), columns=vectorizer.get_feature_names())\n",
    "all_vectors = pd.concat([word_vector,final_vectors], axis=1)\n",
    "all_vectors.shape"
   ]
  },
  {
   "cell_type": "code",
   "execution_count": 7,
   "id": "51c66b5f",
   "metadata": {
    "ExecuteTime": {
     "end_time": "2021-05-11T18:44:53.328448Z",
     "start_time": "2021-05-11T18:44:28.711270Z"
    },
    "hidden": true
   },
   "outputs": [],
   "source": [
    "all_vectors.to_csv('data/all_vectors.csv')"
   ]
  },
  {
   "cell_type": "markdown",
   "id": "41e86512",
   "metadata": {},
   "source": [
    "## Recommendation Building Process/Logic"
   ]
  },
  {
   "cell_type": "markdown",
   "id": "e4c714ff",
   "metadata": {},
   "source": [
    "- Recommendation System:\n",
    "\n",
    "- Stage I. Extract Product ID\n",
    "\n",
    "    0. Query Feature Extraction Functions\n",
    "        - Testing and Checking the accuracy of Feature Extraction Functions\n",
    "        - Unify all feature extraction functions: input query -> output feature vector\n",
    "        - One additional word vector data based on all information in the description\n",
    "    \n",
    "    1. Custom Outfit Combination Assignment:\n",
    "        - Extract existing outfit information from outfit dataset and make assignments\n",
    "    \n",
    "    2. Query Part I. Apply Cosine Similarity Measure: return the one with highest similarity\n",
    "        - Using customized feature vector dataframe as reference, apply cosine similarity measure\n",
    "    \n",
    "       \n",
    "- Stage II. Find Best Match Outfit\n",
    "    \n",
    "    3. if product_id match pre-existing outfit combination > return the outfit result\n",
    "    \n",
    "    4. if no match is found in step 4 > search for most appropriate outfit in custom outfit dictionary\n",
    "    \n",
    "    5. return outfit finding in step 4 or 5"
   ]
  },
  {
   "cell_type": "markdown",
   "id": "ecdddde4",
   "metadata": {
    "heading_collapsed": true
   },
   "source": [
    "## Customized Outfit Dictionary"
   ]
  },
  {
   "cell_type": "code",
   "execution_count": null,
   "id": "ad43e264",
   "metadata": {
    "hidden": true
   },
   "outputs": [],
   "source": [
    "# clothing category extraction\n",
    "def create_clothing_category_feature(df):\n",
    "    \n",
    "    # load libraries\n",
    "    import re\n",
    "    import pandas as pd\n",
    "    from sklearn.feature_extraction.text import CountVectorizer\n",
    "    from collections import Counter\n",
    "    \n",
    "    def unfold_regex(category_find):\n",
    "        new = []\n",
    "        for i in category_find:\n",
    "            for j in i:\n",
    "                if j != '':\n",
    "                    new.append(j)\n",
    "        return new\n",
    "    \n",
    "    def find_mode_category(product_info):\n",
    "\n",
    "        top_regex = r'(?i)\\b(t(?:-)?shirt)s?\\b|\\b(shirt)s?\\b|\\b(blouse)s?\\b|\\b(tank)s?\\b|\\b(top)s?\\b|'\\\n",
    "                        r'\\b(suit)s?\\b|\\b(sweatshirt)s?\\b|\\b(knitwear)s?\\b|\\b(vest)s?\\b|\\b(suit)s?\\b|\\b(sweater)s?\\b|'\\\n",
    "                        r'\\b(cardigan)\\b|\\b(tee)s?\\b|\\b(hoodie)s?\\b|\\b(camisole)s?\\b|\\b(turtleneck)s?\\b'\n",
    "        shoe_regex = r'(?i)\\b(shoe)s?\\b|\\b(sneaker)s?\\b|\\b(footie)s?\\b|\\b(footwear)s?\\b|\\b(pump)s?\\b|'\\\n",
    "                        r'\\b(flat)s?\\b|\\b(heel)s?\\b|\\b(boot)s?\\b|\\b(bootie)s?\\b|\\b(loafer)s?\\b'\\\n",
    "                        r'|\\b(mule)s?\\b|\\b(sandal)s?\\b|\\b(slipper)s?\\b|\\b(wedge)s?\\b|\\b(slide)s?\\b|\\b(slingback)s?\\b'\n",
    "        bottom_regex = r'(?i)\\b(jean)s?\\b|\\b(short)s?\\b|\\b(pant)s?\\b|\\b(skirt)s?\\b|\\b(skort)s?\\b|\\b(sweatpant)s?\\b|'\\\n",
    "                        r'\\b(legging)s?\\b|\\b(trouser)s?\\b|\\b(bottom)s?\\b|\\b(jogger)s?\\b|\\b(tight)s?\\b|\\b(crop)s?\\b|\\b(leg)s?\\b'\n",
    "        bag_regex = r'(?i)\\b(bag)s?\\b|\\b(handbag)s?\\b|\\b(shoulderbag)s?\\b|\\b(tote)s?\\b|\\b(clutch)(?:es)?\\b|'\\\n",
    "                        r'\\b(luggage)s?\\b|\\b(belt\\s?bag)s?\\b|\\b(beach\\s?bag)s?\\b|\\b(backpack)s?\\b|\\b(satchel)s?\\b|'\\\n",
    "                        r'\\b(briefcase)s?\\b|\\b(pouch)(?:es)?\\b'\n",
    "        accessory_regex = r'(?i)\\b(scarf|scarves)\\b|\\b(hat)s?\\b|\\b(belt)s?\\b|\\b(sunglass)es?\\b|\\b(glove)s?\\b|'\\\n",
    "                            r'\\b(keychain)s?\\b|\\b(keyring)s?\\b|\\b(tie)s?\\b|\\b(phone\\s?case)s?\\b|'\\\n",
    "                            r'\\b(glass)(?:es)?\\b|\\b(umbrella)s?\\b|\\b(frame)s?\\b|\\b(wallet)s?\\b|\\b(face\\s?mask)s?\\b|'\\\n",
    "                            r'\\b(helmet)s?\\b|\\b(shawl)s?\\b'\n",
    "        onepiece_regex = r'(?i)\\b(dress)(?:es)?\\b|\\b(jumpsuit)s?\\b|\\b(gown)s?\\b|\\b(robe)s?\\b|\\b(shirtdress)(?:es)?\\b|\\b(bodysuit)s?\\b'\n",
    "        outerwear_regex= r'(?i)\\b(?:top)?(coat)s?\\b|\\b(jacket)s?\\b|\\b(parka)s?\\b|\\b(trench)(?:es)?\\b|\\b(raincoat)s?\\b|\\b(overcoat)s?\\b|'\\\n",
    "                            r'\\b(blazer)s?\\b'\n",
    "        jewelry_regex = r'(?i)\\b(bracelet)s?\\b|\\b(brooch)(?:es)?\\b|\\b(pin)s?\\b|\\b(cufflink)s?\\b|\\b(earring)s?\\b|'\\\n",
    "                            r'\\b(necklace)s?\\b|\\b(ring)s?\\b'\n",
    "        intimate_regex = r'(?i)\\b(underwear)s?\\b|\\b(bra)s?\\b|\\b(sock)s?\\b|\\b(sleepwear)s?\\b|\\b(loungewear)s?\\b|'\\\n",
    "                            r'\\b(boxer)s?\\b|\\b(brief)s?\\b|\\b(linger)(?:ies)?\\b|\\b(pantie)s?\\b'\n",
    "\n",
    "        top_find = re.findall(top_regex, product_info)\n",
    "        shoe_find = re.findall(shoe_regex, product_info)\n",
    "        bottom_find = re.findall(bottom_regex, product_info)\n",
    "        bag_find = re.findall(bag_regex, product_info)\n",
    "        accessory_find = re.findall(accessory_regex, product_info)\n",
    "        onepiece_find = re.findall(onepiece_regex, product_info)\n",
    "        outerwear_find = re.findall(outerwear_regex, product_info)\n",
    "        jewelry_find = re.findall(jewelry_regex, product_info)\n",
    "        intimate_find = re.findall(intimate_regex, product_info)\n",
    "\n",
    "        top_find = unfold_regex(top_find)\n",
    "        shoe_find = unfold_regex(shoe_find)\n",
    "        bottom_find = unfold_regex(bottom_find)\n",
    "        bag_find = unfold_regex(bag_find)\n",
    "        accessory_find = unfold_regex(accessory_find)\n",
    "        onepiece_find = unfold_regex(onepiece_find)\n",
    "        outerwear_find = unfold_regex(outerwear_find)\n",
    "        jewelry_find = unfold_regex(jewelry_find)\n",
    "        intimate_find = unfold_regex(intimate_find)\n",
    "\n",
    "        category_word_count_dict = {'top':len(top_find), 'bottom':len(bottom_find), 'shoe':len(shoe_find),\\\n",
    "                                            'bag':len(bag_find),'accessory':len(accessory_find),\\\n",
    "                                            'onepiece':len(onepiece_find),'outerwear':len(outerwear_find),\\\n",
    "                                            'jewelry':len(jewelry_find),'intimate':len(intimate_find)}\n",
    "        mode_category_name = ''\n",
    "        if sum(category_word_count_dict.values()) != 0:\n",
    "            mode_category_name = max(category_word_count_dict, key=category_word_count_dict.get)\n",
    "\n",
    "\n",
    "        return mode_category_name\n",
    "\n",
    "    def find_sub_category(product_info):\n",
    "\n",
    "        all_category_regex = r'(?i)\\b(t(?:-)?shirt)s?\\b|\\b(shirt)s?\\b|\\b(blouse)s?\\b|\\b(tank)s?\\b|'\\\n",
    "                            r'\\b(suit)s?\\b|\\b(sweatshirt)s?\\b|\\b(knitwear)s?\\b|\\b(vest)s?\\b|\\b(suit)s?\\b|'\\\n",
    "                            r'\\b(sneaker)s?\\b|\\b(footie)s?\\b|\\b(footwear)s?\\b|\\b(pump)s?\\b|'\\\n",
    "                            r'\\b(flat)s?\\b|\\b(heel)s?\\b|\\b(boot)s?\\b|\\b(bootie)s?\\b|\\b(loafer)s?\\b|'\\\n",
    "                            r'\\b(mule)s?\\b|\\b(sandal)s?\\b|\\b(slipper)s?\\b|\\b(wedge)s?\\b|'\\\n",
    "                            r'\\b(jean)s?\\b|\\b(short)s?\\b|\\b(pant)s?\\b|\\b(skirt)s?\\b|\\b(skort)s?\\b|'\\\n",
    "                            r'\\b(legging)s?\\b|\\b(trouser)s?\\b|\\b(jogger)s?\\b|\\b(sweater)s?\\b'\\\n",
    "                            r'\\b(bag)s?\\b|\\b(handbag)s?\\b|\\b(shoulderbag)s?\\b|\\b(tote)s?\\b|\\b(clutch)(?:es)?\\b|'\\\n",
    "                            r'\\b(luggage)s?\\b|\\b(belt\\s?bag)s?\\b|\\b(beach\\s?bag)s?\\b|\\b(backpack)s?\\b|'\\\n",
    "                            r'\\b(scarf|scarves)\\b|\\b(hat)s?\\b|\\b(belt)s?\\b|\\b(sunglass)(?:es)?\\b|\\b(glove)s?\\b|'\\\n",
    "                            r'\\b(keychain)s?\\b|\\b(keyring)s?\\b|\\b(tie)s?\\b|\\b(phone\\s?case)s?\\b|'\\\n",
    "                            r'\\b(glass)(?:es)?\\b|\\b(umbrella)s?\\b|\\b(frame)s?\\b|\\b(wallet)s?\\b|\\b(face\\s?mask)s?\\b|'\\\n",
    "                            r'\\b(helmet)s?\\b|\\b(dress)(?:es)?\\b|\\b(jumpsuit)s?\\b|\\b(gown)s?\\b|\\b(robe)s?\\b|'\\\n",
    "                            r'\\b(coat)s?\\b|\\b(jacket)s?\\b|\\b(parka)s?\\b|\\b(trench)(?:es)?\\b|\\b(raincoat)s?\\b|'\\\n",
    "                            r'\\b(overcoat)s?\\b|\\b(bracelet)s?\\b|\\b(brooch)(?:es)?\\b|\\b(pin)s?\\b|\\b(cufflink)s?\\b|'\\\n",
    "                            r'\\b(earring)s?\\b|\\b(necklace)s?\\b|\\b(ring)s?\\b|\\b(underwear)s?\\b|\\b(bra)s?\\b|'\\\n",
    "                            r'\\b(sock)s?\\b|\\b(sleepwear)s?\\b|\\b(loungewear)s?\\b|\\b(boxer)s?\\b|\\b(brief)s?\\b|'\\\n",
    "                            r'\\b(linger)(?:ies)?\\b|\\b(pantie)s?\\b|\\b(satchel)s?\\b|\\b(sweater)s?\\b|\\b(tee)s?\\b|'\\\n",
    "                            r'\\b(tight)s?\\b|\\b(cardigan)s?\\b|\\b(hoodie)s?\\b|\\b(sweatpant)s?\\b|\\b(slide)s?\\b|'\\\n",
    "                            r'\\b(shirtdress)(?:es)?\\b|\\b(blazer)s?\\b|\\b(crop)s?\\b|\\b(leg)s?\\b|\\b(briefcase)s?\\b|'\\\n",
    "                            r'\\b(shawl)s?\\b|\\b(camisole)s?\\b|\\b(bodysuit)s?\\b|\\b(turtleneck)s?\\b|\\b(pouch)(?:es)?\\b|' \\\n",
    "                            r'\\b(slingback)s?\\b'\n",
    "\n",
    "        all_category_find = re.findall(all_category_regex, product_info)\n",
    "        all_category_find = unfold_regex(all_category_find)\n",
    "        word_counter = Counter(all_category_find)\n",
    "        sub_category = sorted(word_counter, key = word_counter.get, reverse = True)\n",
    "\n",
    "        if len(word_counter) == 0:\n",
    "            return ''\n",
    "        else:\n",
    "            return sub_category[0]\n",
    "    \n",
    "    df['mode_category']=df['product_full_name'].apply(find_mode_category)\n",
    "    df['sub_category'] = df['product_full_name'].apply(find_sub_category)"
   ]
  },
  {
   "cell_type": "code",
   "execution_count": null,
   "id": "3dbdc941",
   "metadata": {
    "hidden": true
   },
   "outputs": [],
   "source": [
    "# merge outfit with category & subcategory findings\n",
    "df = outfit.merge(feature_cols, how='left', on='product_id')\n",
    "create_clothing_category_feature(df)\n",
    "df.head(3)"
   ]
  },
  {
   "cell_type": "code",
   "execution_count": null,
   "id": "8f36c01e",
   "metadata": {
    "hidden": true
   },
   "outputs": [],
   "source": [
    "# unify all accessory\n",
    "df['outfit_item_type'] = df['outfit_item_type']\\\n",
    "                .apply(lambda x: 'accessory' if x in ['accessory1', 'accessory2','accessory3'] else x)\n",
    "\n",
    "# merge all same type columns\n",
    "df['category'] = df['outfit_item_type'].apply(lambda x: [x.lower()]) + \\\n",
    "                    + df['clothing_category'].fillna('').apply(lambda x: [x.lower()]) + \\\n",
    "                    + df['mode_category'].fillna('').apply(lambda x: [x.lower()])\n",
    "\n",
    "df['sub_cat'] = df['clothing_subcategory'].fillna('').apply(lambda x: [x.lower()])\\\n",
    "                    + df['sub_category'].fillna('').apply(lambda x: [x.lower()])\n",
    "\n",
    "# drop duplicates\n",
    "df['sub_cat'] = df['sub_cat'].apply(lambda x: list(set(x)))\\\n",
    "                    .apply(lambda x: \" \".join([text for text in x]))\n",
    "\n",
    "df['category'] = df['category'].apply(lambda x: list(set(x)))\\\n",
    "                    .apply(lambda x: \" \".join([text for text in x]))\n",
    "\n",
    "# drop irrelevant columns\n",
    "df.drop(columns=['clothing_category', 'clothing_subcategory', \n",
    "                 'mode_category', 'sub_category'], inplace=True)"
   ]
  },
  {
   "cell_type": "code",
   "execution_count": null,
   "id": "731a4a02",
   "metadata": {
    "hidden": true
   },
   "outputs": [],
   "source": [
    "# create combination for main category + subcategory\n",
    "df['final'] = df['outfit_item_type'] + '-' + df['sub_cat'].str.strip()\n",
    "\n",
    "# format outfit combinations into one string\n",
    "sub_df = df.groupby(\"outfit_id\")['final'].apply(lambda X: ' '.join(X.str.lower()))\n",
    "sub_df = sub_df.apply(lambda X: [a.strip() for a in X.split()])\n",
    "sub_df = sub_df.apply(lambda x: \" \".join(x))\n",
    "combo = pd.DataFrame(sub_df).reset_index()"
   ]
  },
  {
   "cell_type": "code",
   "execution_count": null,
   "id": "2c7af889",
   "metadata": {
    "hidden": true
   },
   "outputs": [],
   "source": [
    "# implement trigram collacation to find best combinations\n",
    "from nltk.collocations import TrigramCollocationFinder, TrigramAssocMeasures\n",
    "\n",
    "collocation_finder = TrigramCollocationFinder\\\n",
    "                        .from_documents(combo['final'].apply(lambda x: x.split()).to_list())\n",
    "measures = TrigramAssocMeasures()\n",
    "result = collocation_finder.nbest(measures.raw_freq, 10000)\n",
    "result[:10]"
   ]
  },
  {
   "cell_type": "markdown",
   "id": "54c74d3d",
   "metadata": {
    "hidden": true
   },
   "source": [
    "- Logic for Outfit Combination Dictionary:\n",
    "    - First, we extracted popular outfit decisions from the outfit dataset\n",
    "    - The thinking process was that we want to match products that are not already existed in outfit dataset based on expert pairing logics\n",
    "    - The granularity we chose was at subcategory level. \n",
    "    \n",
    "- Subcategory Collacation Extraction Process\n",
    "    - We extracted subcategory of each product and create unique identifiers as `main category - subcategory`\n",
    "    - Then, based on trigram collcation results, we identified most frequent outfit combination for each `main category - subcategory` combination\n",
    "    - For instance, if experts put together `bottom-skirt` most frequently with `top-shirt`, `shoe-boot`, `accessory-tote`, we would create identical outfit recommendation for other `bottom-skirt` products using the same `main category - subcategory` combination"
   ]
  },
  {
   "cell_type": "code",
   "execution_count": null,
   "id": "7d3950f9",
   "metadata": {
    "hidden": true
   },
   "outputs": [],
   "source": [
    "# extract outfit combination recommendation based on prior experts decisions\n",
    "import re\n",
    "for x in df['final'].unique():\n",
    "    print('\\n')\n",
    "    print('-----------------------------')\n",
    "    print(f'For {x} subcategory:')\n",
    "    bot_output = ''\n",
    "    top_output = ''\n",
    "    shoe_output = ''\n",
    "    acc_output = ''\n",
    "    one_output = ''\n",
    "    for i in result:\n",
    "        if x in i:\n",
    "            if re.findall(r'.*bottom.*', \" \".join([word for word in i])) != [] and bot_output=='':\n",
    "                bot_output = i\n",
    "            elif re.findall(r'.*top.*', \" \".join([word for word in i])) != [] and top_output=='':\n",
    "                top_output = i\n",
    "            elif re.findall(r'.*shoe.*', \" \".join([word for word in i])) != [] and shoe_output=='':\n",
    "                shoe_output = i\n",
    "            elif re.findall(r'.*onepiece.*', \" \".join([word for word in i])) != [] and one_output=='':\n",
    "                one_output = i\n",
    "                \n",
    "    print('bottom: ', bot_output, '\\n', \n",
    "          'top: ', top_output, '\\n', \n",
    "          'shoe: ', shoe_output, '\\n', \n",
    "          'onepiece: ', one_output)"
   ]
  },
  {
   "cell_type": "code",
   "execution_count": null,
   "id": "eb825c49",
   "metadata": {
    "hidden": true
   },
   "outputs": [],
   "source": [
    "# final dictionary for all possible subcategory outfit combination\n",
    "cat_subcat_dict = {\n",
    "    'top-tank': ['bottom-short', 'shoe-sneaker', 'accessory-backpack'],\n",
    "    'top-blouse': ['bottom-leg', 'shoe-boot', 'accessory-tie'],\n",
    "    'top-shirt': ['bottom-leg', 'shoe-boot'],\n",
    "    'top-sweater': ['bottom-leg', 'shoe-heel', 'accessory-clutch'],\n",
    "    'top-tie': ['bottom-leg', 'shoe-boot', 'accessory-coat'],\n",
    "    'top-cardigan': ['bottom-leg', 'shoe-heel', 'accessory-coat'],\n",
    "    'top-short': ['bottom-short', 'shoe-slide', 'accessory-handbag'],\n",
    "    'top-camisole': ['bottom-leg', 'shoe-boot', 'accessory-cardigan'],\n",
    "    'top-tee': ['bottom-skirt', 'shoe-slide', 'accessory-handbag'],\n",
    "    'top-suit': ['bottom-skirt', 'shoe-sneaker', 'accessory-shirt'],\n",
    "    'top-turtleneck': ['bottom-pant', 'shoe-heel', 'accessory-blazer'],\n",
    "    'top-dress': ['bottom-trench', 'shoe-slingback', 'accessory-heel'],\n",
    "    'top-jumpsuit': ['shoe-boot'],\n",
    "    'top-scarf': ['bottom-skirt', 'shoe-pump', 'accessory-coat'],\n",
    "    'top-blazer': ['bottom-leg', 'shoe-slingback', 'accessory-briefcase'],\n",
    "    'top-hoodie': ['bottom-short', 'shoe-sandal', 'accessory-tote'],\n",
    "    'top-frame': ['bottom-leg', 'accessory-jacket'],\n",
    "    'top-belt': ['bottom-leg', 'shoe-slingback', 'accessory-handbag'],\n",
    "    'top-sweatshirt': ['bottom-pant', 'shoe-slide', 'accessory-tote'],\n",
    "    'top-skirt': ['bottom-leg', 'shoe-pump', 'accessory-scarf'],\n",
    "    'top-bodysuit': ['bottom-skirt', 'shoe-heel', 'accessory-tie'],\n",
    "    'top-crop': ['bottom-short', 'shoe-slide', 'accessory-jean'],\n",
    "    'top-bra': ['bottom-short', 'shoe-sneaker', 'accessory-backpack'],\n",
    "    'bottom-skirt': ['top-shirt', 'shoe-boot', 'accessory-cardigan'],\n",
    "    'bottom-pant': ['top-shirt', 'shoe-slide', 'accessory-cardigan'],\n",
    "    'bottom-crop': ['top-shirt', 'shoe-boot', 'accessory-sweater'],\n",
    "    'bottom-trouser': ['top-shirt', 'shoe-heel', 'accessory-jacket'],\n",
    "    'bottom-leg': ['top-shirt', 'shoe-boot', 'accessory-tie'],\n",
    "    'bottom-jean': ['top-shirt', 'shoe-boot', 'accessory-coat'],\n",
    "    'bottom-jacket': ['shoe-boot'],\n",
    "    'bottom-turtleneck': ['top-dress'],\n",
    "    'bottom-dress': ['top-turtleneck', 'shoe-bootie', 'accessory-trench'],\n",
    "    'bottom-jogger': ['top-tank', 'shoe-slide', 'accessory-hoodie'],\n",
    "    'bottom-sweatpant': ['top-tank', 'shoe-sandal', 'accessory-hoodie'],\n",
    "    'bottom-legging': ['top-shirt', 'shoe-sneaker', 'accessory-sweatshirt'],\n",
    "    'bottom-short': ['top-tank', 'shoe-slide', 'accessory-sweatshirt'],\n",
    "    'bottom-boot': ['top-shirt', 'shoe-pump', 'accessory-blazer'],\n",
    "    'bottom-tight': ['top-tank', 'shoe-sneaker', 'accessory-sweatshirt'],\n",
    "    'shoe-pump': ['top-turtleneck', 'accessory-cardigan', 'bottom-leg'],\n",
    "    'shoe-flat': ['top-turtleneck', 'bottom-skirt', 'accessory-sunglass'],\n",
    "    'shoe-heel': ['top-tee', 'bottom-leg', 'accessory-tote', 'onepiece-dress'],\n",
    "    'shoe-boot': ['top-shirt', 'bottom-leg', 'accessory-jacket', 'onepiece-dress'],\n",
    "    'shoe-slingback': ['top-belt', 'bottom-jean', 'accessory-scarf', 'onepiece-dress'],\n",
    "    'shoe-frame': ['accessory-tote', 'onepiece-dress'],\n",
    "    'shoe-flat sandal': ['top-blouse'],\n",
    "    'shoe-bootie': ['top-cardigan', 'bottom-pant', 'accessory-cardigan', 'onepiece-dress'],\n",
    "    'shoe-sandal': ['top-turtleneck', 'bottom-skirt', 'accessory-tote', 'onepiece-dress'],\n",
    "    'shoe-sneaker': ['top-sweatshirt', 'bottom-leg', 'accessory-hoodie', 'onepiece-bodysuit'],\n",
    "    'shoe-heel mule': ['top-shirt', 'accessory-handbag'],\n",
    "    'shoe-tote': ['top-turtleneck', 'accessory-heel'],\n",
    "    'shoe-slide': ['top-tee', 'bottom-pant', 'accessory-handbag', 'onepiece-dress'],\n",
    "    'shoe-loafer': ['top-sweater', 'bottom-jean', 'accessory-handbag'],\n",
    "    'shoe-heel pump': ['top-turtleneck', 'bottom-leg'],\n",
    "    'shoe-mule': ['top-sweater', 'bottom-leg', 'accessory-coat', 'onepiece-dress'],\n",
    "    'shoe-heel loafer': ['top-belt', 'bottom-skirt', 'accessory-tote', 'accessory-sunglass'],\n",
    "    'shoe-heel bootie': ['top-shirt', 'bottom-leg', 'accessory-jacket', 'onepiece-dress'],\n",
    "    'shoe-tie': ['accessory-scarf', 'bottom-skirt', 'top-tee'],\n",
    "    'shoe-heel slide': ['accessory-coat', 'bottom-leg', 'accessory-handbag'],\n",
    "    'shoe-slingback sandal': ['top-shirt', 'bottom-jean'],\n",
    "    'shoe-heel flat': ['top-turtleneck', 'bottom-leg', 'accessory-handbag', 'accessory-sunglass'],\n",
    "    'shoe-slide sandal': ['top-shirt', 'bottom-skirt', 'accessory-jacket', 'onepiece-dress'],\n",
    "    'accessory-satchel': ['bottom-pant', 'top-tank', 'shoe-pump'],\n",
    "    'accessory-clutch': ['bottom-leg', 'top-sweater', 'shoe-boot', 'onepiece-dress'],\n",
    "    'accessory-tote': ['bottom-jean', 'top-sweatshirt', 'shoe-mule', 'onepiece-dress'],\n",
    "    'accessory-jacket': ['bottom-pant', 'shoe-boot', 'onepiece-dress'],\n",
    "    'accessory-sweater': ['bottom-jean', 'top-camisole', 'shoe-heel'],\n",
    "    'accessory-handbag': ['bottom-skirt', 'top-belt', 'shoe-sneaker'],\n",
    "    'accessory-trench': ['bottom-leg', 'top-turtleneck', 'shoe-sandal', 'onepiece-dress'],\n",
    "    'accessory-coat': ['bottom-jean', 'top-sweater', 'shoe-boot', 'onepiece-dress'],\n",
    "    'accessory-cardigan': ['bottom-leg', 'top-shirt', 'shoe-boot', 'onepiece-dress'],\n",
    "    'accessory-scarf': ['bottom-leg', 'top-belt', 'shoe-boot', 'onepiece-bodysuit'],\n",
    "    'accessory-wallet': ['shoe-heel', 'onepiece-dress'],\n",
    "    'accessory-shirt': ['bottom-skirt', 'top-sweater', 'shoe-mule', 'onepiece-dress'],\n",
    "    'accessory-blazer': ['bottom-leg', 'top-turtleneck', 'shoe-sandal', 'onepiece-dress'],\n",
    "    'accessory-shawl': ['bottom-skirt', 'top-blouse', 'shoe-boot', 'onepiece-dress'],\n",
    "    'accessory-tie': ['bottom-leg', 'top-blouse', 'shoe-pump'],\n",
    "    'accessory-briefcase': ['bottom-skirt', 'top-tee', 'shoe-slingback'],\n",
    "    'accessory-backpack': ['bottom-jean', 'top-tank', 'shoe-sneaker', 'onepiece-bodysuit'],\n",
    "    'accessory-hoodie': ['bottom-pant', 'top-tank', 'shoe-sneaker'],\n",
    "    'accessory-bra': ['bottom-leg', 'top-sweatshirt', 'shoe-sneaker'],\n",
    "    'accessory-camisole': ['bottom-leg', 'top-turtleneck', 'shoe-pump', 'onepiece-jumpsuit'],\n",
    "    'accessory-tee': ['bottom-jean', 'top-shirt', 'shoe-sneaker'],\n",
    "    'accessory-vest': ['bottom-skirt', 'top-t-shirt', 'shoe-boot'],\n",
    "    'accessory-tank': ['bottom-skirt', 'top-shirt', 'shoe-pump'],\n",
    "    'accessory-jean': ['bottom-skirt', 'top-crop', 'shoe-flat'],\n",
    "    'accessory-frame': ['bottom-skirt', 'top-sweater', 'shoe-mule'],\n",
    "    'accessory-pouch': ['bottom-jean', 'top-sweater', 'shoe-boot', 'onepiece-dress'],\n",
    "    'accessory-turtleneck': ['bottom-leg', 'shoe-boot', 'onepiece-dress'],\n",
    "    'accessory-sunglass': ['shoe-pump', 'onepiece-dress'],\n",
    "    'accessory-dress': ['bottom-leg', 'top-blouse', 'shoe-sandal'],\n",
    "    'accessory-belt': ['bottom-leg', 'top-turtleneck', 'shoe-bootie', 'onepiece-dress'],\n",
    "    'accessory-suit': ['bottom-skirt', 'shoe-boot'],\n",
    "    'accessory-sweatshirt': ['bottom-tight', 'top-tee', 'shoe-sneaker'],\n",
    "    'onepiece-dress': ['shoe-boot'],\n",
    "    'onepiece-jumpsuit': ['shoe-boot', 'accessory-jacket'],\n",
    "    'onepiece-shirt': ['accessory-cardigan', 'shoe-slide'],\n",
    "    'onepiece-bodysuit': ['accessory-scarf', 'shoe-slide'],\n",
    "    'onepiece-leg': ['accessory-jacket', 'shoe-boot'],\n",
    "    'onepiece-tie': ['shoe-pump', 'accessory-turtleneck'],\n",
    "    'onepiece-dress shirt': ['accessory-tote', 'shoe-flat'],\n",
    "    'onepiece-shirtdress': ['accessory-tote', 'shoe-flat'],\n",
    "    'onepiece-short': ['accessory-sunglass', 'shoe-pump']\n",
    "}"
   ]
  },
  {
   "cell_type": "markdown",
   "id": "3a88aa45",
   "metadata": {},
   "source": [
    "## Recommendation System"
   ]
  },
  {
   "cell_type": "markdown",
   "id": "fc4c3953",
   "metadata": {
    "heading_collapsed": true
   },
   "source": [
    "### Query Feature Extraction Functions"
   ]
  },
  {
   "cell_type": "code",
   "execution_count": 8,
   "id": "a2188377",
   "metadata": {
    "ExecuteTime": {
     "end_time": "2021-05-11T18:44:53.401694Z",
     "start_time": "2021-05-11T18:44:53.336588Z"
    },
    "hidden": true
   },
   "outputs": [],
   "source": [
    "# custom query vector\n",
    "import re\n",
    "import pandas as pd\n",
    "import numpy as np\n",
    "from sklearn.feature_extraction.text import CountVectorizer\n",
    "\n",
    "# unfold function\n",
    "def unfold_regex(category_find):\n",
    "        new = []\n",
    "        for i in category_find:\n",
    "            for j in i:\n",
    "                if j != '':\n",
    "                    new.append(j)\n",
    "        return new\n",
    "\n",
    "# clothing category function\n",
    "def create_clothing_category_feature(user_query):\n",
    "\n",
    "    top_regex = r'(?i)\\b(t(?:-)?shirt)s?\\b|\\b(shirt)s?\\b|\\b(blouse)s?\\b|\\b(tank)s?\\b|\\b(top)s?\\b|'\\\n",
    "                        r'\\b(suit)s?\\b|\\b(sweatshirt)s?\\b|\\b(knitwear)s?\\b|\\b(vest)s?\\b|\\b(suit)s?\\b|\\b(sweater)s?\\b|'\\\n",
    "                        r'\\b(cardigan)\\b|\\b(tee)s?\\b|\\b(hoodie)s?\\b|\\b(camisole)s?\\b|\\b(turtleneck)s?\\b'\n",
    "    shoe_regex = r'(?i)\\b(shoe)s?\\b|\\b(sneaker)s?\\b|\\b(footie)s?\\b|\\b(footwear)s?\\b|\\b(pump)s?\\b|'\\\n",
    "                    r'\\b(flat)s?\\b|\\b(heel)s?\\b|\\b(boot)s?\\b|\\b(bootie)s?\\b|\\b(loafer)s?\\b'\\\n",
    "                    r'|\\b(mule)s?\\b|\\b(sandal)s?\\b|\\b(slipper)s?\\b|\\b(wedge)s?\\b|\\b(slide)s?\\b|\\b(slingback)s?\\b'\n",
    "    bottom_regex = r'(?i)\\b(jean)s?\\b|\\b(short)s?\\b|\\b(pant)s?\\b|\\b(skirt)s?\\b|\\b(skort)s?\\b|\\b(sweatpant)s?\\b|'\\\n",
    "                    r'\\b(legging)s?\\b|\\b(trouser)s?\\b|\\b(bottom)s?\\b|\\b(jogger)s?\\b|\\b(tight)s?\\b|\\b(crop)s?\\b|\\b(leg)s?\\b'\n",
    "    bag_regex = r'(?i)\\b(bag)s?\\b|\\b(handbag)s?\\b|\\b(shoulderbag)s?\\b|\\b(tote)s?\\b|\\b(clutch)(?:es)?\\b'\\\n",
    "                    r'\\b(luggage)s?\\b|\\b(belt\\s?bag)s?\\b|\\b(beach\\s?bag)s?\\b|\\b(backpack)s?\\b|\\b(satchel)s?\\b|'\\\n",
    "                    r'\\b(briefcase)s?\\b|\\b(pouch)(?:es)?\\b'\n",
    "    accessory_regex = r'(?i)\\b(scarf|scarves)\\b|\\b(hat)s?\\b|\\b(belt)s?\\b|\\b(sunglass)es?\\b|\\b(glove)s?\\b|'\\\n",
    "                        r'\\b(keychain)s?\\b|\\b(keyring)s?\\b|\\b(tie)s?\\b|\\b(phone\\s?case)s?\\b|'\\\n",
    "                        r'\\b(glass)(?:es)?\\b|\\b(umbrella)s?\\b|\\b(frame)s?\\b|\\b(wallet)s?\\b|\\b(face\\s?mask)s?\\b|'\\\n",
    "                        r'\\b(helmet)s?\\b|\\b(shawl)s?\\b'\n",
    "    onepiece_regex = r'(?i)\\b(dress)(?:es)?\\b|\\b(jumpsuit)s?\\b|\\b(gown)s?\\b|\\b(robe)s?\\b|\\b(shirtdress)(?:es)?\\b|\\b(bodysuit)s?\\b'\n",
    "    outerwear_regex= r'(?i)\\b(?:top)?(coat)s?\\b|\\b(jacket)s?\\b|\\b(parka)s?\\b|\\b(trench)(?:es)?\\b|\\b(raincoat)s?\\b|\\b(overcoat)s?\\b|'\\\n",
    "                        r'\\b(blazer)s?\\b'\n",
    "    jewelry_regex = r'(?i)\\b(bracelet)s?\\b|\\b(brooch)(?:es)?\\b|\\b(pin)s?\\b|\\b(cufflink)s?\\b|\\b(earring)s?\\b|'\\\n",
    "                        r'\\b(necklace)s?\\b|\\b(ring)s?\\b'\n",
    "    intimate_regex = r'(?i)\\b(underwear)s?\\b|\\b(bra)s?\\b|\\b(sock)s?\\b|\\b(sleepwear)s?\\b|\\b(loungewear)s?\\b|'\\\n",
    "                        r'\\b(boxer)s?\\b|\\b(brief)s?\\b|\\b(linger)(?:ies)?\\b|\\b(pantie)s?\\b'\n",
    "\n",
    "    top_find = re.findall(top_regex, user_query)\n",
    "    shoe_find = re.findall(shoe_regex, user_query)\n",
    "    bottom_find = re.findall(bottom_regex, user_query)\n",
    "    bag_find = re.findall(bag_regex, user_query)\n",
    "    accessory_find = re.findall(accessory_regex, user_query)\n",
    "    onepiece_find = re.findall(onepiece_regex, user_query)\n",
    "    outerwear_find = re.findall(outerwear_regex, user_query)\n",
    "    jewelry_find = re.findall(jewelry_regex, user_query)\n",
    "    intimate_find = re.findall(intimate_regex, user_query)\n",
    "\n",
    "    category_word_count_dict = {'top':len(top_find),'shoe':len(shoe_find),'bottom':len(bottom_find),\\\n",
    "                                        'bag':len(bag_find),'accessory':len(accessory_find),\\\n",
    "                                        'onepiece':len(onepiece_find),'outerwear':len(outerwear_find),\\\n",
    "                                        'jewelry':len(jewelry_find),'intimate':len(intimate_find)}\n",
    "\n",
    "    cloth_result = ['']\n",
    "    if sum(category_word_count_dict.values()) != 0:\n",
    "        mode_category_name = max(category_word_count_dict, key=category_word_count_dict.get)\n",
    "        cloth_result = [mode_category_name]\n",
    "\n",
    "    return cloth_result\n",
    "\n",
    "# detailed clothing category function\n",
    "def find_sub_category(user_query):\n",
    "    \n",
    "    all_category_regex = r'(?i)\\b(t(?:-)?shirt)s?\\b|\\b(shirt)s?\\b|\\b(blouse)s?\\b|\\b(tank)s?\\b|'\\\n",
    "                            r'\\b(suit)s?\\b|\\b(sweatshirt)s?\\b|\\b(knitwear)s?\\b|\\b(vest)s?\\b|\\b(suit)s?\\b|'\\\n",
    "                            r'\\b(sneaker)s?\\b|\\b(footie)s?\\b|\\b(footwear)s?\\b|\\b(pump)s?\\b|'\\\n",
    "                            r'\\b(flat)s?\\b|\\b(heel)s?\\b|\\b(boot)s?\\b|\\b(bootie)s?\\b|\\b(loafer)s?\\b|'\\\n",
    "                            r'\\b(mule)s?\\b|\\b(sandal)s?\\b|\\b(slipper)s?\\b|\\b(wedge)s?\\b|'\\\n",
    "                            r'\\b(jean)s?\\b|\\b(short)s?\\b|\\b(pant)s?\\b|\\b(skirt)s?\\b|\\b(skort)s?\\b|'\\\n",
    "                            r'\\b(legging)s?\\b|\\b(trouser)s?\\b|\\b(jogger)s?\\b|\\b(sweater)s?\\b'\\\n",
    "                            r'\\b(bag)s?\\b|\\b(handbag)s?\\b|\\b(shoulderbag)s?\\b|\\b(tote)s?\\b|\\b(clutch)(?:es)?\\b|'\\\n",
    "                            r'\\b(luggage)s?\\b|\\b(belt\\s?bag)s?\\b|\\b(beach\\s?bag)s?\\b|\\b(backpack)s?\\b|'\\\n",
    "                            r'\\b(scarf|scarves)\\b|\\b(hat)s?\\b|\\b(belt)s?\\b|\\b(sunglass)(?:es)?\\b|\\b(glove)s?\\b|'\\\n",
    "                            r'\\b(keychain)s?\\b|\\b(keyring)s?\\b|\\b(tie)s?\\b|\\b(phone\\s?case)s?\\b|'\\\n",
    "                            r'\\b(glass)(?:es)?\\b|\\b(umbrella)s?\\b|\\b(frame)s?\\b|\\b(wallet)s?\\b|\\b(face\\s?mask)s?\\b|'\\\n",
    "                            r'\\b(helmet)s?\\b|\\b(dress)(?:es)?\\b|\\b(jumpsuit)s?\\b|\\b(gown)s?\\b|\\b(robe)s?\\b|'\\\n",
    "                            r'\\b(coat)s?\\b|\\b(jacket)s?\\b|\\b(parka)s?\\b|\\b(trench)(?:es)?\\b|\\b(raincoat)s?\\b|'\\\n",
    "                            r'\\b(overcoat)s?\\b|\\b(bracelet)s?\\b|\\b(brooch)(?:es)?\\b|\\b(pin)s?\\b|\\b(cufflink)s?\\b|'\\\n",
    "                            r'\\b(earring)s?\\b|\\b(necklace)s?\\b|\\b(ring)s?\\b|\\b(underwear)s?\\b|\\b(bra)s?\\b|'\\\n",
    "                            r'\\b(sock)s?\\b|\\b(sleepwear)s?\\b|\\b(loungewear)s?\\b|\\b(boxer)s?\\b|\\b(brief)s?\\b|'\\\n",
    "                            r'\\b(linger)(?:ies)?\\b|\\b(pantie)s?\\b|\\b(satchel)s?\\b|\\b(sweater)s?\\b|\\b(tee)s?\\b|'\\\n",
    "                            r'\\b(tight)s?\\b|\\b(cardigan)s?\\b|\\b(hoodie)s?\\b|\\b(sweatpant)s?\\b|\\b(slide)s?\\b|'\\\n",
    "                            r'\\b(shirtdress)(?:es)?\\b|\\b(blazer)s?\\b|\\b(crop)s?\\b|\\b(leg)s?\\b|\\b(briefcase)s?\\b|'\\\n",
    "                            r'\\b(shawl)s?\\b|\\b(camisole)s?\\b|\\b(bodysuit)s?\\b|\\b(turtleneck)s?\\b|\\b(pouch)(?:es)?\\b|' \\\n",
    "                            r'\\b(slingback)s?\\b'\n",
    "\n",
    "    subcategory_find = re.findall(all_category_regex, user_query)\n",
    "    subcategory_find = unfold_regex(subcategory_find)\n",
    "\n",
    "    return subcategory_find\n",
    "\n",
    "\n",
    "\n",
    "# gender feature function\n",
    "def create_gender_feature(user_query):\n",
    "\n",
    "    # gender regex patterns\n",
    "    female_regex = r'\\b(women|ladies|lady|woman|female|dress(?:es)?|skorts?|skirts?|blouses?|girls?|jewelr(?:ies)?|heels?)\\b'\n",
    "    male_regex = r'\\b(man|men|gentleman|gentlemen)\\b'\n",
    "    kid_regex = r'\\b(kids?|child(?:ren)?|girls?|boys?|babies|baby|infants?|toddlers?|teenagers?|youths?)\\b'\n",
    "\n",
    "    # initiate empty list to store results\n",
    "    female_find = re.findall(female_regex, user_query)\n",
    "    male_find = re.findall(male_regex, user_query)\n",
    "    kid_find = re.findall(kid_regex, user_query)\n",
    "\n",
    "    gender_list = female_find+male_find+kid_find\n",
    "    gender_list = [i for i in gender_list if i != \"\"]\n",
    "    gender_keywords = \" \".join([i for i in gender_list])\n",
    "    gender_word_count_dict = {'female':len(female_find),'male':len(male_find),'kid':len(kid_find)}\n",
    "\n",
    "    gender_result = ['']\n",
    "    if sum(gender_word_count_dict.values()) == 0:\n",
    "        return gender_result\n",
    "    else:\n",
    "        mode_gender = max(gender_word_count_dict, key=gender_word_count_dict.get)\n",
    "        gender_result = [mode_gender]\n",
    "\n",
    "    return gender_result\n",
    "\n",
    "\n",
    "# color feature function\n",
    "def create_color_feature(user_query): # pd.DataFrame -> pd.Series, pd.DataFrame\n",
    "\n",
    "    # define color pattern keywords\n",
    "    color_pattern = r'(?i)\\bRed|Orange|Yellow|Green|Blue|Purple|White|Black|Brown|Magenta|Tan|Olive|Navy|Turquoise|Silver|Lime|Teal|Indigo|Violet|Pink|Gray|Navy|Beige|Burgundy|Golden|Magenta|Cyan|Aquamarine\\b'\n",
    "\n",
    "    # find all color words from given info\n",
    "    color_result = re.findall(color_pattern, user_query)\n",
    "\n",
    "    return color_result\n",
    "\n",
    "def create_location_feature(user_query):\n",
    "\n",
    "    # define location keywords\n",
    "    location_regex_1 = r'(?i)\\b(usa|italy|ethiopia|china|peru|los angeles|nyc|spain|new york|portugal|india|america|kenya|turkey|brazil|ghana|italian|morocco|france|vietnam|germany|lima|mexico|argentina|japan|brooklyn|madagascar|bali|prc|poland)\\b'\n",
    "    location_regex_2 = r'(?i)\\b(LA|US|JP)\\b'\n",
    "    # find all location words from given info\n",
    "    location_result_1 = re.findall(location_regex_1, user_query)\n",
    "    location_result_2 = re.findall(location_regex_2, user_query)\n",
    "    location_result = location_result_1 + location_result_2\n",
    "\n",
    "    return location_result\n",
    "\n",
    "def create_tags_feature(user_query):\n",
    "\n",
    "    tags_words = ['stripe vertical', 'shoulder bags', 'highneck', 'romantic', 'crossbody', 'sweatshirt', \n",
    "                  'denim', 'cotton blend', 'straightregular', 'buttonedback', 'backzipper', 'multiprint', \n",
    "                  'sportsbra', 'joggerssweatpants', 'henley', 'sheath', 'dropwaist', 'mohair', 'skinny', \n",
    "                  'jerseyknit', 'short at waistline', 'cold weather', 'corduroy', 'tank', 'splitneck', 'vneck',\n",
    "                  'camisole', 'tiedye', 'shawlcollar', 'straight regular', 'shell', 'satincharmeuse', \n",
    "                  'lightbrowns', 'waist', 'roundtoe', 'bandcollar', 'sandals', 'buttondown', 'above waistline', \n",
    "                  'plus', 'purewool', 'sleeve', 'flap', 'kitten', 'businesscasualdress', 'down', 'bucketbags', \n",
    "                  'classic', 'strap', 'belted', '5pocketpantnondenim', 'boot', 'floral', 'mid length at hips', \n",
    "                  'squaretoe', 'edgy', 'tote', 'booties', 'fauxshearling', 'bucket', 'faux shearling', \n",
    "                  'lightbrown', 'straight', 'cone', 'oneshoulder', 'squareneck', 'culotte', 'beachbags', \n",
    "                  'hoodie', 'pinstripe', 'cases', 'faux leather', 'regular', 'blacks', 'zipup', 'hook', \n",
    "                  'twisted', 'fauxfur', 'crepedechine', 'sidezip', 'halfwayzipper', 'stripevertical', \n",
    "                  'suede', 'boots', 'tall', 'buttonfront', 'open', 'purecotton', 'trackpants', 'shortsleeve', \n",
    "                  'platform', 'sleeveless', 'cut', 'sweatshirthoodie', 'halfwaybuttoned', 'swraps', 'logo', \n",
    "                  'zipflywithbutton', 'pumpsheels', 'burgundies', 'twill', 'shawl collar', 'tweed', \n",
    "                  'midlengthathips', 'joggers', 'crepe de chine', 'aline', 'buckle', 'satchels', 'wedge', \n",
    "                  'capri', 'business casual', 'blouse', 'glam', 'bodycon', 'knit', 'jewel', 'purelinen', \n",
    "                  'mandarincollar', 'color block', 'tiefront', 'heels', 'fleece', 'crossbodybags', 'poncho', \n",
    "                  'wrap', 'wedges', 'duster', 'opentoe', 'vest', 'retro', 'patent leather', 'turtleneck', \n",
    "                  'short sleeve', 'light brown', 'button', 'zipfly', 'grays', 'satin charmeuse', 'multi print',\n",
    "                  'funnel', 'pantsleggings', 'wideleg', 'halter', 'pinks', 'clasp', 'women', 'silk blend', \n",
    "                  'mandarin', 'casualdress', 'velcro', 'scarveswraps', 'stripehorizontal', 'dark brown', \n",
    "                  'cropped', 'daytonight', 'canvas', 'block', 'stiletto', 'surplice', 'golds', 'geometric', \n",
    "                  'faux fur', 'empirewaist', 'coldweather', 'nightout', 'maternity', 'boyfriend', 'elastane', \n",
    "                  'narrow', 'draped', 'laceup', 'silvers', 'baggy', 'sneakersathletic', 'pussybow', \n",
    "                  'casual dress', 'animal', 'drawstring', 'casual', 'cowlneck', 'lock', 'inwardcurve', \n",
    "                  'under8', 'oranges', 'shirtdress', 'tieback', 'tropical', 'sateen', 'walletscardcases', \n",
    "                  'linen blend', 'buttoned', 'belowhips', 'multi', 'day to night', 'highover9', 'plungeneck', \n",
    "                  'tee', 'platformflatform', 'tailored', 'polo', 'fauxleather', 'bags', 'linenblend', \n",
    "                  'sweatpants', 'slingback', 'androgynous', 'purples', 'sweetheart', 'tie', 'blazerdress', \n",
    "                  'purecashmere', 'slit', 'blazerscoatsjackets', 'anklestrap', 'handbags', 'closedtoe', \n",
    "                  'strapless', 'pants', 'mules', 'skirts', 'semi fitted', 'low', 'totebags', 'snap', \n",
    "                  'fittedtailored', 'sneakers athletic', 'openfront', 'puffsleeve', 'crewneck', 'synthetic',\n",
    "                  'raisedsole', 'magnetic', 'zip', 'darkbrowns', 'hobobags', 'long', 'cardigan', 'calfhair', \n",
    "                  'beach bags', 'pointedtoe', 'maxi', 'peeptoe', 'laces', 'silkblend', 'wide', 'paisley',\n",
    "                  'shortatwaistline', 'bustier', 'shorts', 'flats', 'colorblock', 'stripe', \n",
    "                  'blazers coats jackets', 'laptopsbriefcases', 'peplum', 'beltbagsfannypack', 'patentleather',\n",
    "                  'cold', 'slipdress', 'shoulderbags', 'round toe', 'croptop', 'cargo', 'shearling', 'shoulder',\n",
    "                  'midcalf', 'snaps', 'back', 'collar', 'blues', 'leggings', 'hookandloop', 'relaxed', 'greens',\n",
    "                  'sweater', 'chambray', 'hookloop', 'tshirtdress', 'zipper', 'tieneck', 'longsleeve', \n",
    "                  'cashmereblend', 'longbelowhips', 'slim', 'weekend', 'halfway buttoned', 'oversized', \n",
    "                  'reds', 'slippers', 'sunglasses', 'modal', 'tiered', 'whites', 'belts', 'sports bra', \n",
    "                  'cottonblend', 'high', 'boho', 'stripe horizontal', 'sundress', 'backpacks', 'beiges', \n",
    "                  'scarve', 'graphic', 'fannypack', 'sweaterdress', 'flare', 'dots', 'boatneck', 'nondenim', \n",
    "                  'businesscasual', 'empire', 'woolblend', 'slides', 'laptops briefcases', 'houndstooth', \n",
    "                  'capsleeve', 'pure linen', 'flatform', 'athleisure', 'ponyhair', 'scoopneck', 'calf hair', \n",
    "                  'denimjeans', 'none', 'clutchespouches', 'front', 'coldshoulder', 'bodysuit', \n",
    "                  'zipflywithhook', 'buttonedfront', 'spandex', 'collared', 'puff', 'vacation', 'abstract', \n",
    "                  'side', 'snakeskin', 'yellows', 'monogram', 'keyhole', 'closed toe', 'designer', \n",
    "                  'long sleeve', 'backzip', 'chenille', 'asymmetrical', 'fitted', 'tunic', \n",
    "                  'croppedabovewaistline', 'active', 'cap', 'pointed', 'camouflage', 'toe', 'frontzip', \n",
    "                  'bootcut', 'backless', 'halfway zipper', 'tie dye', 'mockneck', 'offshoulder', 'shift', \n",
    "                  'trousers', 'puresilk', 'walletscard', 'workout', 'pumps', 'ankle', 'mulesslides', \n",
    "                  'semifitted', '5pocketpant', 'trapezeswing', 'mid89', 'modern', 'work', 'flat', 'plaid', \n",
    "                  'belt']\n",
    "\n",
    "    tags_words = list(set(tags_words))\n",
    "\n",
    "    # create tags regex\n",
    "    super_regex = r\"(?i)\\b\" + \"|\".join([words for words in tags_words]) + r\"\\b\"\n",
    "\n",
    "    # find all tags words from query\n",
    "    tags_result = re.findall(super_regex, user_query)\n",
    "\n",
    "    return tags_result\n",
    "\n",
    "def create_material_feature(user_query):\n",
    "    \n",
    "    # define color pattern keywords\n",
    "    materials = ['acetate', 'acrylic', 'alpaca', 'calf', 'cashmere','chiffon', 'cotton','kidskin', \n",
    "            'lamb', 'lambskin', 'leather','linen', 'lyocell','mercerized', 'merino','nylon',\n",
    "            'organic','peruvian', 'pima','poly', 'polyamide','polyester', 'polyurethane', \n",
    "            'ramie', 'rayon','rubber', 'silk','supima', 'tencel', 'triacetate', 'uv', 'uva',\n",
    "            'velvet', 'virgin', 'viscose', 'wood', 'wool','rose sylk', 'cotton']\n",
    "    \n",
    "    material_pattern = r\"(?i)\\b(\"+\"|\".join(materials)+r\")\\b\"\n",
    "    \n",
    "    # find all material words from given info\n",
    "    material_result = re.findall(material_pattern, user_query)\n",
    "    \n",
    "    return material_result\n",
    "\n",
    "def word_vectorizer(user_query):\n",
    "    vectorizer = CountVectorizer(stop_words='english', token_pattern=r'(?u)\\b(?![0-9])\\w\\w+\\b')\n",
    "    X = vectorizer.fit_transform([user_query])\n",
    "    word_vector = pd.DataFrame(X.toarray(), columns=vectorizer.get_feature_names())\n",
    "    \n",
    "    return word_vector"
   ]
  },
  {
   "cell_type": "markdown",
   "id": "97b07d6f",
   "metadata": {
    "heading_collapsed": true
   },
   "source": [
    "### Custom Outfit Combination Assignment"
   ]
  },
  {
   "cell_type": "code",
   "execution_count": 9,
   "id": "e63f3553",
   "metadata": {
    "ExecuteTime": {
     "end_time": "2021-05-11T18:44:54.456558Z",
     "start_time": "2021-05-11T18:44:53.407989Z"
    },
    "hidden": true
   },
   "outputs": [],
   "source": [
    "# load datasets\n",
    "import pandas as pd\n",
    "df = pd.read_csv('data/rec_product.csv',index_col=0)\n",
    "outfit_df = pd.read_csv('data/outfit_combinations USC.csv')\n",
    "feature_columns = pd.read_csv('data/feature_columns.csv',index_col=0)\n",
    "feature_columns['clothing_category'] = feature_columns['clothing_category'].fillna('uncategorized')\n",
    "feature_columns['clothing_subcategory'] = feature_columns['clothing_subcategory'].fillna('')\n",
    "df = df.merge(feature_columns, on='product_id', how='left')\n",
    "df['cat_subcat'] = df['clothing_category'].str.lower() + '-' + df['clothing_subcategory'].str.lower()"
   ]
  },
  {
   "cell_type": "code",
   "execution_count": 10,
   "id": "ee769878",
   "metadata": {
    "ExecuteTime": {
     "end_time": "2021-05-11T18:45:00.084527Z",
     "start_time": "2021-05-11T18:44:54.463116Z"
    },
    "hidden": true
   },
   "outputs": [],
   "source": [
    "# define a function to find all existing outfit combination for products\n",
    "def outfit_combo(outfit, product_df):\n",
    "    # change all accessories to 'accessory'\n",
    "    outfit['outfit_item_type'] = outfit['outfit_item_type'].\\\n",
    "                        apply(lambda x: 'accessory' if x in ['accessory1','accessory2', 'accessory3'] else x)\n",
    "\n",
    "    merged = outfit.merge(product_df, how='inner', on='product_id').iloc[:,:3]\n",
    "    merged2 = merged.merge(outfit, how='inner', on='outfit_id')\n",
    "    merged3 = merged2.loc[merged2['outfit_item_type_x'] != merged2['outfit_item_type_y'],]\n",
    "    product_id = outfit['product_id'].drop_duplicates()\n",
    "    new_df = pd.DataFrame(0, columns = ['product_id'], index=range(1))\n",
    "    row = 0\n",
    "    for p_id in product_id:\n",
    "        df = merged3.loc[merged3['product_id_x'] == p_id,]\n",
    "        if len(df) == 0:\n",
    "            new_df.loc[row, 'product_id'] = p_id\n",
    "            new_df.loc[row, 'outfit'] = 'NO MATCH'\n",
    "        else:\n",
    "            outfitid = df['outfit_id'].value_counts().index[0]\n",
    "            temp = df.loc[df['outfit_id']==outfitid,['product_id_y','outfit_item_type_y','product_full_name']].reset_index(drop=True)\n",
    "            outfit_dict = dict()\n",
    "            \n",
    "            for i in range(temp.shape[0]):\n",
    "                outfit_dict[temp.loc[i,'outfit_item_type_y']] = str(temp.loc[i,'product_full_name'])+' ('+str(temp.loc[i, 'product_id_y'])+')'\n",
    "                \n",
    "            new_df.loc[row,'product_id']=p_id\n",
    "            new_df.loc[row, 'outfit'] = [outfit_dict]\n",
    "\n",
    "        row += 1\n",
    "\n",
    "    df_with_outfit = new_df[new_df['outfit']!='NO MATCH']\n",
    "    \n",
    "    product_df = product_df.merge(df_with_outfit, how='left', on='product_id')\n",
    "\n",
    "    outfit_combo = product_df[product_df['outfit'].notna()][['product_id','name',\n",
    "                                                             'clothing_category','outfit']].reset_index(drop=True)\n",
    "    \n",
    "    # add in product\n",
    "    def append_self(df):\n",
    "        self_dict = df['outfit'][0]\n",
    "        order_dict = {}\n",
    "        order_dict[df['clothing_category']] = df['name']+' ('+df['product_id']+')'\n",
    "        for key in self_dict:\n",
    "            if key not in order_dict:\n",
    "                order_dict[key] = self_dict[key]\n",
    "        return order_dict\n",
    "\n",
    "    outfit_combo['outfit'] = outfit_combo.apply(append_self, axis=1)\n",
    "    \n",
    "    return outfit_combo\n",
    "\n",
    "outfit_combo = outfit_combo(outfit_df, df)\n",
    "outfit_combo.to_excel('data/outfit_comb.xlsx')"
   ]
  },
  {
   "cell_type": "markdown",
   "id": "9b94b3aa",
   "metadata": {
    "heading_collapsed": true
   },
   "source": [
    "### Query Function Part I. Product ID Extraction"
   ]
  },
  {
   "cell_type": "code",
   "execution_count": 11,
   "id": "4afe9fc1",
   "metadata": {
    "ExecuteTime": {
     "end_time": "2021-05-11T18:45:00.103268Z",
     "start_time": "2021-05-11T18:45:00.087150Z"
    },
    "hidden": true
   },
   "outputs": [],
   "source": [
    "def search_product(user_query: str):\n",
    "    \n",
    "    # load existing feature vectors\n",
    "    product = pd.read_csv('data/rec_product.csv',index_col=0)\n",
    "    final_vectors = pd.read_csv('data/all_vectors.csv', index_col=0)\n",
    "    \n",
    "    feature_vec = pd.DataFrame()\n",
    "    feature_vec['vector'] = list(final_vectors.values)\n",
    "    \n",
    "    # create a dataframe for query vector\n",
    "    query_vector = pd.DataFrame(columns=[final_vectors.columns])\n",
    "    query_vector.loc[0] = [0 for i in range(len(final_vectors.columns))]\n",
    "    \n",
    "    # custom functions (see above)\n",
    "    \n",
    "    # concat all result and mapp query vector\n",
    "    cloth_result = create_clothing_category_feature(user_query)\n",
    "    subcategory_result = find_sub_category(user_query)\n",
    "    gender_result = create_gender_feature(user_query)\n",
    "    color_result = create_color_feature(user_query)\n",
    "    location_result  = create_location_feature(user_query)\n",
    "    tags_result = create_tags_feature(user_query)\n",
    "    material_result = create_material_feature(user_query)\n",
    "    word_vector = word_vectorizer(user_query)\n",
    "    \n",
    "    query_feature = ['',] + cloth_result + gender_result + color_result + location_result + tags_result \\\n",
    "                    + material_result + subcategory_result\n",
    "    \n",
    "    for name in query_feature:\n",
    "        if name in query_vector.columns:\n",
    "            query_vector.loc[0, name] = 1\n",
    "            \n",
    "    for name in word_vector.columns:\n",
    "        if name in query_vector.columns:\n",
    "            query_vector.loc[0, name] = 1\n",
    "            \n",
    "    # regroup accessory groups\n",
    "    if query_vector.loc[0, 'accessory'].values + \\\n",
    "                                        query_vector.loc[0, 'bag'].values + \\\n",
    "                                        query_vector.loc[0, 'intimate'].values + \\\n",
    "                                        query_vector.loc[0, 'outerwear'].values + \\\n",
    "                                        query_vector.loc[0, 'jewelry'].values > 0: \n",
    "        query_vector.loc[0, 'accessory'] = 1\n",
    "    \n",
    "            \n",
    "    # determine the query belong group: top, bottom, accessory\n",
    "    query_cat = ''\n",
    "    for col in ['uncategorized', 'accessory', 'top', 'bottom', 'shoe', 'onepiece']:\n",
    "        if query_vector.loc[0, col].values == 1:\n",
    "            query_cat = str(col)\n",
    "    \n",
    "    feature_index = final_vectors.loc[product[query_cat]==1].index\n",
    "    \n",
    "    # calculate cosine similarity with feature vectors\n",
    "    def cos_sim(a, b):\n",
    "        from numpy import dot\n",
    "        from numpy.linalg import norm\n",
    "\n",
    "        cos_sim = dot(a, b)/(norm(a)*norm(b))\n",
    "        \n",
    "        return cos_sim\n",
    "    \n",
    "    # find best match in the searched category\n",
    "    for i in feature_vec.index:\n",
    "        if i in feature_index:\n",
    "            part_b = feature_vec.loc[i, 'vector']\n",
    "            if part_b.sum() >= query_vector.values.sum():\n",
    "                feature_vec.loc[i, 'query_cos'] = cos_sim(query_vector, part_b)\n",
    "            else:\n",
    "                feature_vec.loc[i, 'query_cos'] = 0\n",
    "        else:\n",
    "            feature_vec.loc[i, 'query_cos'] = 0\n",
    "    \n",
    "    \n",
    "    item_index = feature_vec['query_cos'].sort_values(ascending=False).head(1).index\n",
    "    \n",
    "    return product.loc[item_index, 'product_id'].values[0]"
   ]
  },
  {
   "cell_type": "markdown",
   "id": "935d46b3",
   "metadata": {
    "heading_collapsed": true
   },
   "source": [
    "### Query Function Part II. Matching Outfit Extraction"
   ]
  },
  {
   "cell_type": "code",
   "execution_count": 12,
   "id": "5f487b04",
   "metadata": {
    "ExecuteTime": {
     "end_time": "2021-05-11T18:45:00.134776Z",
     "start_time": "2021-05-11T18:45:00.105954Z"
    },
    "hidden": true
   },
   "outputs": [],
   "source": [
    "# final custom outfit subcategory combination\n",
    "cat_subcat_dict = {\n",
    "    'top-tank': ['bottom-short', 'shoe-sneaker', 'accessory-backpack'],\n",
    "    'top-blouse': ['bottom-leg', 'shoe-boot', 'accessory-tie'],\n",
    "    'top-shirt': ['bottom-leg', 'shoe-boot'],\n",
    "    'top-sweater': ['bottom-leg', 'shoe-heel', 'accessory-clutch'],\n",
    "    'top-tie': ['bottom-leg', 'shoe-boot', 'accessory-coat'],\n",
    "    'top-cardigan': ['bottom-leg', 'shoe-heel', 'accessory-coat'],\n",
    "    'top-short': ['bottom-short', 'shoe-slide', 'accessory-handbag'],\n",
    "    'top-camisole': ['bottom-leg', 'shoe-boot', 'accessory-cardigan'],\n",
    "    'top-tee': ['bottom-skirt', 'shoe-slide', 'accessory-handbag'],\n",
    "    'top-suit': ['bottom-skirt', 'shoe-sneaker', 'accessory-shirt'],\n",
    "    'top-turtleneck': ['bottom-pant', 'shoe-heel', 'accessory-blazer'],\n",
    "    'top-dress': ['bottom-trench', 'shoe-slingback', 'accessory-heel'],\n",
    "    'top-jumpsuit': ['shoe-boot'],\n",
    "    'top-scarf': ['bottom-skirt', 'shoe-pump', 'accessory-coat'],\n",
    "    'top-blazer': ['bottom-leg', 'shoe-slingback', 'accessory-briefcase'],\n",
    "    'top-hoodie': ['bottom-short', 'shoe-sandal', 'accessory-tote'],\n",
    "    'top-frame': ['bottom-leg', 'accessory-jacket'],\n",
    "    'top-belt': ['bottom-leg', 'shoe-slingback', 'accessory-handbag'],\n",
    "    'top-sweatshirt': ['bottom-pant', 'shoe-slide', 'accessory-tote'],\n",
    "    'top-skirt': ['bottom-leg', 'shoe-pump', 'accessory-scarf'],\n",
    "    'top-bodysuit': ['bottom-skirt', 'shoe-heel', 'accessory-tie'],\n",
    "    'top-crop': ['bottom-short', 'shoe-slide', 'accessory-jean'],\n",
    "    'top-bra': ['bottom-short', 'shoe-sneaker', 'accessory-backpack'],\n",
    "    'bottom-skirt': ['top-shirt', 'shoe-boot', 'accessory-cardigan'],\n",
    "    'bottom-pant': ['top-shirt', 'shoe-slide', 'accessory-cardigan'],\n",
    "    'bottom-crop': ['top-shirt', 'shoe-boot', 'accessory-sweater'],\n",
    "    'bottom-trouser': ['top-shirt', 'shoe-heel', 'accessory-jacket'],\n",
    "    'bottom-leg': ['top-shirt', 'shoe-boot', 'accessory-tie'],\n",
    "    'bottom-jean': ['top-shirt', 'shoe-boot', 'accessory-coat'],\n",
    "    'bottom-jacket': ['shoe-boot'],\n",
    "    'bottom-turtleneck': ['top-dress'],\n",
    "    'bottom-dress': ['top-turtleneck', 'shoe-bootie', 'accessory-trench'],\n",
    "    'bottom-jogger': ['top-tank', 'shoe-slide', 'accessory-hoodie'],\n",
    "    'bottom-sweatpant': ['top-tank', 'shoe-sandal', 'accessory-hoodie'],\n",
    "    'bottom-legging': ['top-shirt', 'shoe-sneaker', 'accessory-sweatshirt'],\n",
    "    'bottom-short': ['top-tank', 'shoe-slide', 'accessory-sweatshirt'],\n",
    "    'bottom-boot': ['top-shirt', 'shoe-pump', 'accessory-blazer'],\n",
    "    'bottom-tight': ['top-tank', 'shoe-sneaker', 'accessory-sweatshirt'],\n",
    "    'shoe-pump': ['top-turtleneck', 'accessory-cardigan', 'bottom-leg'],\n",
    "    'shoe-flat': ['top-turtleneck', 'bottom-skirt', 'accessory-sunglass'],\n",
    "    'shoe-heel': ['top-tee', 'bottom-leg', 'accessory-tote', 'onepiece-dress'],\n",
    "    'shoe-boot': ['top-shirt', 'bottom-leg', 'accessory-jacket', 'onepiece-dress'],\n",
    "    'shoe-slingback': ['top-belt', 'bottom-jean', 'accessory-scarf', 'onepiece-dress'],\n",
    "    'shoe-frame': ['accessory-tote', 'onepiece-dress'],\n",
    "    'shoe-flat sandal': ['top-blouse'],\n",
    "    'shoe-bootie': ['top-cardigan', 'bottom-pant', 'accessory-cardigan', 'onepiece-dress'],\n",
    "    'shoe-sandal': ['top-turtleneck', 'bottom-skirt', 'accessory-tote', 'onepiece-dress'],\n",
    "    'shoe-sneaker': ['top-sweatshirt', 'bottom-leg', 'accessory-hoodie', 'onepiece-bodysuit'],\n",
    "    'shoe-heel mule': ['top-shirt', 'accessory-handbag'],\n",
    "    'shoe-tote': ['top-turtleneck', 'accessory-heel'],\n",
    "    'shoe-slide': ['top-tee', 'bottom-pant', 'accessory-handbag', 'onepiece-dress'],\n",
    "    'shoe-loafer': ['top-sweater', 'bottom-jean', 'accessory-handbag'],\n",
    "    'shoe-heel pump': ['top-turtleneck', 'bottom-leg'],\n",
    "    'shoe-mule': ['top-sweater', 'bottom-leg', 'accessory-coat', 'onepiece-dress'],\n",
    "    'shoe-heel loafer': ['top-belt', 'bottom-skirt', 'accessory-tote', 'accessory-sunglass'],\n",
    "    'shoe-heel bootie': ['top-shirt', 'bottom-leg', 'accessory-jacket', 'onepiece-dress'],\n",
    "    'shoe-tie': ['accessory-scarf', 'bottom-skirt', 'top-tee'],\n",
    "    'shoe-heel slide': ['accessory-coat', 'bottom-leg', 'accessory-handbag'],\n",
    "    'shoe-slingback sandal': ['top-shirt', 'bottom-jean'],\n",
    "    'shoe-heel flat': ['top-turtleneck', 'bottom-leg', 'accessory-handbag', 'accessory-sunglass'],\n",
    "    'shoe-slide sandal': ['top-shirt', 'bottom-skirt', 'accessory-jacket', 'onepiece-dress'],\n",
    "    'accessory-satchel': ['bottom-pant', 'top-tank', 'shoe-pump'],\n",
    "    'accessory-clutch': ['bottom-leg', 'top-sweater', 'shoe-boot', 'onepiece-dress'],\n",
    "    'accessory-tote': ['bottom-jean', 'top-sweatshirt', 'shoe-mule', 'onepiece-dress'],\n",
    "    'accessory-jacket': ['bottom-pant', 'shoe-boot', 'onepiece-dress'],\n",
    "    'accessory-sweater': ['bottom-jean', 'top-camisole', 'shoe-heel'],\n",
    "    'accessory-handbag': ['bottom-skirt', 'top-belt', 'shoe-sneaker'],\n",
    "    'accessory-trench': ['bottom-leg', 'top-turtleneck', 'shoe-sandal', 'onepiece-dress'],\n",
    "    'accessory-coat': ['bottom-jean', 'top-sweater', 'shoe-boot', 'onepiece-dress'],\n",
    "    'accessory-cardigan': ['bottom-leg', 'top-shirt', 'shoe-boot', 'onepiece-dress'],\n",
    "    'accessory-scarf': ['bottom-leg', 'top-belt', 'shoe-boot', 'onepiece-bodysuit'],\n",
    "    'accessory-wallet': ['shoe-heel', 'onepiece-dress'],\n",
    "    'accessory-shirt': ['bottom-skirt', 'top-sweater', 'shoe-mule', 'onepiece-dress'],\n",
    "    'accessory-blazer': ['bottom-leg', 'top-turtleneck', 'shoe-sandal', 'onepiece-dress'],\n",
    "    'accessory-shawl': ['bottom-skirt', 'top-blouse', 'shoe-boot', 'onepiece-dress'],\n",
    "    'accessory-tie': ['bottom-leg', 'top-blouse', 'shoe-pump'],\n",
    "    'accessory-briefcase': ['bottom-skirt', 'top-tee', 'shoe-slingback'],\n",
    "    'accessory-backpack': ['bottom-jean', 'top-tank', 'shoe-sneaker', 'onepiece-bodysuit'],\n",
    "    'accessory-hoodie': ['bottom-pant', 'top-tank', 'shoe-sneaker'],\n",
    "    'accessory-bra': ['bottom-leg', 'top-sweatshirt', 'shoe-sneaker'],\n",
    "    'accessory-camisole': ['bottom-leg', 'top-turtleneck', 'shoe-pump', 'onepiece-jumpsuit'],\n",
    "    'accessory-tee': ['bottom-jean', 'top-shirt', 'shoe-sneaker'],\n",
    "    'accessory-vest': ['bottom-skirt', 'top-t-shirt', 'shoe-boot'],\n",
    "    'accessory-tank': ['bottom-skirt', 'top-shirt', 'shoe-pump'],\n",
    "    'accessory-jean': ['bottom-skirt', 'top-crop', 'shoe-flat'],\n",
    "    'accessory-frame': ['bottom-skirt', 'top-sweater', 'shoe-mule'],\n",
    "    'accessory-pouch': ['bottom-jean', 'top-sweater', 'shoe-boot', 'onepiece-dress'],\n",
    "    'accessory-turtleneck': ['bottom-leg', 'shoe-boot', 'onepiece-dress'],\n",
    "    'accessory-sunglass': ['shoe-pump', 'onepiece-dress'],\n",
    "    'accessory-dress': ['bottom-leg', 'top-blouse', 'shoe-sandal'],\n",
    "    'accessory-belt': ['bottom-leg', 'top-turtleneck', 'shoe-bootie', 'onepiece-dress'],\n",
    "    'accessory-suit': ['bottom-skirt', 'shoe-boot'],\n",
    "    'accessory-sweatshirt': ['bottom-tight', 'top-tee', 'shoe-sneaker'],\n",
    "    'onepiece-dress': ['shoe-boot'],\n",
    "    'onepiece-jumpsuit': ['shoe-boot', 'accessory-jacket'],\n",
    "    'onepiece-shirt': ['accessory-cardigan', 'shoe-slide'],\n",
    "    'onepiece-bodysuit': ['accessory-scarf', 'shoe-slide'],\n",
    "    'onepiece-leg': ['accessory-jacket', 'shoe-boot'],\n",
    "    'onepiece-tie': ['shoe-pump', 'accessory-turtleneck'],\n",
    "    'onepiece-dress shirt': ['accessory-tote', 'shoe-flat'],\n",
    "    'onepiece-shirtdress': ['accessory-tote', 'shoe-flat'],\n",
    "    'onepiece-short': ['accessory-sunglass', 'shoe-pump']\n",
    "}"
   ]
  },
  {
   "cell_type": "code",
   "execution_count": 13,
   "id": "034419b6",
   "metadata": {
    "ExecuteTime": {
     "end_time": "2021-05-11T18:45:00.146974Z",
     "start_time": "2021-05-11T18:45:00.138245Z"
    },
    "hidden": true
   },
   "outputs": [],
   "source": [
    "# define a function to recommend outfit based on category and subcategory\n",
    "def cat_subcat_rec(product_id:str):\n",
    "    new_dict = {}\n",
    "    \n",
    "    # search for product id with other information\n",
    "    temp0 = df.loc[df['product_id']==product_id, ['clothing_category', 'name', 'cat_subcat']]\n",
    "    pname = str(temp0['name'].values[0])\n",
    "    mcat = str(temp0['clothing_category'].values[0])\n",
    "    subcat = str(temp0['cat_subcat'].values[0])\n",
    "    \n",
    "    # add query product info\n",
    "    new_dict[mcat] = pname+' ('+product_id+')'\n",
    "    \n",
    "    # add recommended outfit info to dictionary\n",
    "    if subcat in cat_subcat_dict:\n",
    "        for cat in cat_subcat_dict[subcat]:\n",
    "            temp1 = df.loc[df['cat_subcat']==cat,['product_id', 'name', 'clothing_category']]\n",
    "            if temp1.empty:\n",
    "                continue\n",
    "            else:\n",
    "                temp1 = temp1.sample(1)\n",
    "                new_dict[str(temp1['clothing_category'].values[0])] = str(temp1['name'].values[0])+\\\n",
    "                                                                        ' ('+str(temp1['product_id'].values[0])+')'\n",
    "    return new_dict"
   ]
  },
  {
   "cell_type": "code",
   "execution_count": 14,
   "id": "680d6822",
   "metadata": {
    "ExecuteTime": {
     "end_time": "2021-05-11T18:45:00.155451Z",
     "start_time": "2021-05-11T18:45:00.150455Z"
    },
    "hidden": true
   },
   "outputs": [],
   "source": [
    "# define a function to determine which outfit dictionary to draw results from\n",
    "def search_outfit(product_id:str):\n",
    "    if product_id in outfit_combo['product_id'].values:\n",
    "        result = outfit_combo.loc[outfit_combo['product_id']==product_id, 'outfit'].values[0]\n",
    "    else:\n",
    "        result = cat_subcat_rec(product_id)\n",
    "    return result"
   ]
  },
  {
   "cell_type": "markdown",
   "id": "abd881c4",
   "metadata": {
    "heading_collapsed": true
   },
   "source": [
    "### Query Function Part III. Final Outfit Extarction"
   ]
  },
  {
   "cell_type": "code",
   "execution_count": 15,
   "id": "e73837c5",
   "metadata": {
    "ExecuteTime": {
     "end_time": "2021-05-11T18:45:00.164782Z",
     "start_time": "2021-05-11T18:45:00.158979Z"
    },
    "hidden": true
   },
   "outputs": [],
   "source": [
    "# final search query function\n",
    "def search(user_query: str):\n",
    "    \"\"\"\n",
    "    user_query is a string that is passed in by the user, and this function\n",
    "    returns a dictionary of outfit results. Example:\n",
    "    search(\"pleated casual skirt\") -> {\n",
    "    \"top\": \"...\",\n",
    "    \"bottom\": \"...\",\n",
    "    \"shoe\": \"...\"\n",
    "    }\n",
    "    \"\"\"\n",
    "    product_id = search_product(user_query)\n",
    "\n",
    "    return search_outfit(product_id)"
   ]
  },
  {
   "cell_type": "markdown",
   "id": "65fcd466",
   "metadata": {
    "heading_collapsed": true
   },
   "source": [
    "## Phase I. Testing"
   ]
  },
  {
   "cell_type": "code",
   "execution_count": 16,
   "id": "438e0034",
   "metadata": {
    "ExecuteTime": {
     "end_time": "2021-05-11T18:45:00.173588Z",
     "start_time": "2021-05-11T18:45:00.168272Z"
    },
    "hidden": true
   },
   "outputs": [],
   "source": [
    "test_1 = \"Two medium cotton blue shirt with cartoon pictures\"\n",
    "test_2 = \"7 For All Mankind slim fitting, straight leg pant with a center back zipper and slightly cropped leg\"\n",
    "test_3 = \"white and black coat with bar pattern\"\n",
    "test_4 = \"high heels in black color\"\n",
    "test_5 = \"footies with opentoe, black and white strip, good ploy material\"\n",
    "test_6 = 'white oversized graphic-print silk cotton shirt'\n",
    "test_7 = \"red heels with white stripes for party wearing\"\n",
    "test_8 = \"Slim Knit Skirt\"\n",
    "test_9 = \"white jeans with green pattern and with blue strips red stars\""
   ]
  },
  {
   "cell_type": "code",
   "execution_count": 17,
   "id": "8400afe6",
   "metadata": {
    "ExecuteTime": {
     "end_time": "2021-05-11T18:45:51.435792Z",
     "start_time": "2021-05-11T18:45:00.177115Z"
    },
    "hidden": true
   },
   "outputs": [
    {
     "data": {
      "text/plain": [
       "'SP21-W0928-12 Sara Henley Shirt BLUE PINSTRIPE'"
      ]
     },
     "execution_count": 17,
     "metadata": {},
     "output_type": "execute_result"
    }
   ],
   "source": [
    "test_1 = \"Two medium cotton blue shirt with cartoon pictures\"\n",
    "df.loc[df['product_id']==search_product(test_1), 'name'].values[0]"
   ]
  },
  {
   "cell_type": "code",
   "execution_count": 18,
   "id": "1377b297",
   "metadata": {
    "ExecuteTime": {
     "end_time": "2021-05-11T18:46:33.420185Z",
     "start_time": "2021-05-11T18:45:51.438033Z"
    },
    "hidden": true
   },
   "outputs": [
    {
     "data": {
      "text/plain": [
       "'Monterey Pant'"
      ]
     },
     "execution_count": 18,
     "metadata": {},
     "output_type": "execute_result"
    }
   ],
   "source": [
    "test_2 = \"7 For All Mankind slim fitting, straight leg pant with a center back zipper and slightly cropped leg\"\n",
    "df.loc[df['product_id']==search_product(test_2), 'name'].values[0]"
   ]
  },
  {
   "cell_type": "code",
   "execution_count": 19,
   "id": "122cd9b9",
   "metadata": {
    "ExecuteTime": {
     "end_time": "2021-05-11T18:47:18.582432Z",
     "start_time": "2021-05-11T18:46:33.423499Z"
    },
    "hidden": true
   },
   "outputs": [
    {
     "data": {
      "text/plain": [
       "'Chevron Fur Coat'"
      ]
     },
     "execution_count": 19,
     "metadata": {},
     "output_type": "execute_result"
    }
   ],
   "source": [
    "test_3 = \"white and black coat with bar pattern\"\n",
    "df.loc[df['product_id']==search_product(test_3), 'name'].values[0]"
   ]
  },
  {
   "cell_type": "code",
   "execution_count": 20,
   "id": "cb147599",
   "metadata": {
    "ExecuteTime": {
     "end_time": "2021-05-11T18:47:59.662271Z",
     "start_time": "2021-05-11T18:47:18.584322Z"
    },
    "hidden": true
   },
   "outputs": [
    {
     "data": {
      "text/plain": [
       "'PATRON II Black Tweed'"
      ]
     },
     "execution_count": 20,
     "metadata": {},
     "output_type": "execute_result"
    }
   ],
   "source": [
    "test_4 = \"black high heels\"\n",
    "df.loc[df['product_id']==search_product(test_4), 'name'].values[0]"
   ]
  },
  {
   "cell_type": "code",
   "execution_count": 21,
   "id": "603ec40f",
   "metadata": {
    "ExecuteTime": {
     "end_time": "2021-05-11T18:48:42.601665Z",
     "start_time": "2021-05-11T18:47:59.665384Z"
    },
    "hidden": true
   },
   "outputs": [
    {
     "data": {
      "text/plain": [
       "'TANNIS Black/White'"
      ]
     },
     "execution_count": 21,
     "metadata": {},
     "output_type": "execute_result"
    }
   ],
   "source": [
    "test_5 = \"footies with opentoe, black and white strip, good ploy material\"\n",
    "df.loc[df['product_id']==search_product(test_5), 'name'].values[0]"
   ]
  },
  {
   "cell_type": "code",
   "execution_count": 22,
   "id": "ab6b9868",
   "metadata": {
    "ExecuteTime": {
     "end_time": "2021-05-11T18:49:32.641190Z",
     "start_time": "2021-05-11T18:48:42.604656Z"
    },
    "hidden": true
   },
   "outputs": [
    {
     "data": {
      "text/plain": [
       "'T-Shirt M.I.L Off White'"
      ]
     },
     "execution_count": 22,
     "metadata": {},
     "output_type": "execute_result"
    }
   ],
   "source": [
    "test_6 = 'white oversized graphic-print silk cotton shirt'\n",
    "df.loc[df['product_id']==search_product(test_6), 'name'].values[0]"
   ]
  },
  {
   "cell_type": "code",
   "execution_count": 23,
   "id": "fbcd7563",
   "metadata": {
    "ExecuteTime": {
     "end_time": "2021-05-11T18:50:17.677295Z",
     "start_time": "2021-05-11T18:49:32.648574Z"
    },
    "hidden": true
   },
   "outputs": [
    {
     "data": {
      "text/plain": [
       "'Hush Heel in Multi Crystal'"
      ]
     },
     "execution_count": 23,
     "metadata": {},
     "output_type": "execute_result"
    }
   ],
   "source": [
    "test_7 = \"red heels with white stripes for party wearing\"\n",
    "df.loc[df['product_id']==search_product(test_7), 'name'].values[0]"
   ]
  },
  {
   "cell_type": "code",
   "execution_count": 24,
   "id": "90aff383",
   "metadata": {
    "ExecuteTime": {
     "end_time": "2021-05-11T18:50:48.881786Z",
     "start_time": "2021-05-11T18:50:17.680494Z"
    },
    "hidden": true
   },
   "outputs": [
    {
     "data": {
      "text/plain": [
       "'Aquinnah Skirt'"
      ]
     },
     "execution_count": 24,
     "metadata": {},
     "output_type": "execute_result"
    }
   ],
   "source": [
    "test_8 = \"Slim Knit Skirt\"\n",
    "df.loc[df['product_id']==search_product(test_8), 'name'].values[0]"
   ]
  },
  {
   "cell_type": "code",
   "execution_count": 25,
   "id": "4a123b44",
   "metadata": {
    "ExecuteTime": {
     "end_time": "2021-05-11T18:51:15.895526Z",
     "start_time": "2021-05-11T18:50:48.883585Z"
    },
    "hidden": true
   },
   "outputs": [
    {
     "data": {
      "text/plain": [
       "'Navy & Army Skater Jean - Size 25'"
      ]
     },
     "execution_count": 25,
     "metadata": {},
     "output_type": "execute_result"
    }
   ],
   "source": [
    "test_9 = \"white jeans with green pattern and with blue strips red stars\"\n",
    "df.loc[df['product_id']==search_product(test_9), 'name'].values[0]"
   ]
  },
  {
   "cell_type": "code",
   "execution_count": 26,
   "id": "ad29de77",
   "metadata": {
    "ExecuteTime": {
     "end_time": "2021-05-11T18:51:44.449338Z",
     "start_time": "2021-05-11T18:51:15.897313Z"
    },
    "hidden": true
   },
   "outputs": [
    {
     "data": {
      "text/plain": [
       "'Stretch Cotton & Linen Wide Leg Trousers'"
      ]
     },
     "execution_count": 26,
     "metadata": {},
     "output_type": "execute_result"
    }
   ],
   "source": [
    "test_10 = \"Stretch Cotton & Linen Wide Leg Trousers\"\n",
    "df.loc[df['product_id']==search_product(test_10), 'name'].values[0]"
   ]
  },
  {
   "cell_type": "markdown",
   "id": "c6916ed1",
   "metadata": {},
   "source": [
    "## Phase II. Testing"
   ]
  },
  {
   "cell_type": "code",
   "execution_count": 27,
   "id": "80adc7f2",
   "metadata": {
    "ExecuteTime": {
     "end_time": "2021-05-11T18:51:44.455155Z",
     "start_time": "2021-05-11T18:51:44.451907Z"
    }
   },
   "outputs": [],
   "source": [
    "test_1 = \"Two medium cotton blue shirt with cartoon pictures\"\n",
    "test_2 = \"7 For All Mankind slim fitting, straight leg pant with a center back zipper and slightly cropped leg\"\n",
    "test_3 = \"white and black coat with bar pattern\"\n",
    "test_4 = \"high heels in black color\"\n",
    "test_5 = \"footies with opentoe, black and white strip, good ploy material\"\n",
    "test_6 = 'white oversized graphic-print silk cotton shirt'\n",
    "test_7 = \"red heels with white stripes for party wearing\"\n",
    "test_8 = \"Slim Knit Skirt\"\n",
    "test_9 = \"white jeans with green pattern and with blue strips red stars\"\n",
    "test_10 = \"Stretch Cotton & Linen Wide Leg Trousers\""
   ]
  },
  {
   "cell_type": "code",
   "execution_count": 28,
   "id": "54e7a2d1",
   "metadata": {
    "ExecuteTime": {
     "end_time": "2021-05-11T18:52:15.449368Z",
     "start_time": "2021-05-11T18:51:44.456990Z"
    }
   },
   "outputs": [
    {
     "data": {
      "text/plain": [
       "{'top': 'SP21-W0928-12 Sara Henley Shirt BLUE PINSTRIPE (01EWXM6E9SHSB4H481CRYPAYF9)',\n",
       " 'bottom': 'Cropped Alexa with Cut Off Hem (01EMPJFBFDZ02Y4AZ9KQP14S76)',\n",
       " 'shoe': 'Wellington Leather Chelsea Boot (01F3TFFMM349FGCBQWSGE332J1)'}"
      ]
     },
     "execution_count": 28,
     "metadata": {},
     "output_type": "execute_result"
    }
   ],
   "source": [
    "search(test_1)"
   ]
  },
  {
   "cell_type": "code",
   "execution_count": 29,
   "id": "43359ac4",
   "metadata": {
    "ExecuteTime": {
     "end_time": "2021-05-11T18:52:49.128142Z",
     "start_time": "2021-05-11T18:52:15.451094Z"
    }
   },
   "outputs": [
    {
     "data": {
      "text/plain": [
       "{'bottom': 'Monterey Pant (01EXSSWZS7A922NNNA9Y2E272H)',\n",
       " 'top': 'Natalie 1.0 Top - Ivory (01EYXY45PHY0W5T9S0J6TS5HJJ)',\n",
       " 'shoe': 'Spinner Slide Sandal (01E2P3PNQE59KXHZHW179DZF67)',\n",
       " 'accessory': 'Fringed wool, silk and cashmere-blend jacquard cardigan (01DV6M9BHK039WP9730M31DEPA)'}"
      ]
     },
     "execution_count": 29,
     "metadata": {},
     "output_type": "execute_result"
    }
   ],
   "source": [
    "search(test_2)"
   ]
  },
  {
   "cell_type": "code",
   "execution_count": 30,
   "id": "1703600f",
   "metadata": {
    "ExecuteTime": {
     "end_time": "2021-05-11T18:53:28.742751Z",
     "start_time": "2021-05-11T18:52:49.130141Z"
    }
   },
   "outputs": [
    {
     "data": {
      "text/plain": [
       "{'accessory': 'Chevron Fur Coat (01EPRS18BCZZBQBX9SHRXTVR50)',\n",
       " 'bottom': 'Luxe Vintage Edie with Destroy and Grinded Hem (01EHAXTTPH6YBP0RZR0NTB7BSF)',\n",
       " 'top': 'Saylor (01E4VCEZH1BXQA4WAKPEBAYEPX)',\n",
       " 'shoe': 'SeaVees Mariners Boot - Peacock Navy (01EZG68JQF7YJ6AXF9812BNDBR)',\n",
       " 'onepiece': 'Silvana Dress Black (01EPX375HER9D0DN1T4XYXK8S6)'}"
      ]
     },
     "execution_count": 30,
     "metadata": {},
     "output_type": "execute_result"
    }
   ],
   "source": [
    "search(test_3)"
   ]
  },
  {
   "cell_type": "code",
   "execution_count": 31,
   "id": "9baf3563",
   "metadata": {
    "ExecuteTime": {
     "end_time": "2021-05-11T18:54:06.377074Z",
     "start_time": "2021-05-11T18:53:28.744714Z"
    }
   },
   "outputs": [
    {
     "data": {
      "text/plain": [
       "{'shoe': 'PATRON II Black Tweed (01E96ECH71F540T0CEWS3D54YN)',\n",
       " 'top': 'Rincon Ringer Tee - White (01F1JWZ9ZBBZP7T6GZ7HEP9X76)',\n",
       " 'bottom': 'The Rambler Ankle Fray Groovin (01EH5A8TKY83AXZKE6VQK8PR7A)',\n",
       " 'accessory': 'Shoulder Strap (01EPAVVQ4SHWJZQY1SPYC81Q0C)',\n",
       " 'onepiece': 'Ala Dress (01EW3HD11GMV2R5F1AYBNP2TQ2)'}"
      ]
     },
     "execution_count": 31,
     "metadata": {},
     "output_type": "execute_result"
    }
   ],
   "source": [
    "search(test_4)"
   ]
  },
  {
   "cell_type": "code",
   "execution_count": 32,
   "id": "25e76c83",
   "metadata": {
    "ExecuteTime": {
     "end_time": "2021-05-11T18:54:42.753279Z",
     "start_time": "2021-05-11T18:54:06.379114Z"
    }
   },
   "outputs": [
    {
     "data": {
      "text/plain": [
       "{'shoe': 'TANNIS Black/White (01EC8NEP0CQSX3N3BDP89KESX6)',\n",
       " 'top': 'BELLA TURTLENECK (01ED9MHGB1V7Q19KFHTH9BEDDK)',\n",
       " 'bottom': 'Deana Pleated High/Low Maxi Skirt (01E1JKSQA44HYZ5ACGEP7QJQ0R)',\n",
       " 'accessory': 'SQUARE TOTE Saddle (01EEBJ0XK0KQKT24W7P64FT97J)',\n",
       " 'onepiece': 'Jade (01E4EASQMQN65QFAM0PD5QGVVZ)'}"
      ]
     },
     "execution_count": 32,
     "metadata": {},
     "output_type": "execute_result"
    }
   ],
   "source": [
    "search(test_5)"
   ]
  },
  {
   "cell_type": "code",
   "execution_count": 33,
   "id": "357f889b",
   "metadata": {
    "ExecuteTime": {
     "end_time": "2021-05-11T18:55:27.446966Z",
     "start_time": "2021-05-11T18:54:42.755363Z"
    }
   },
   "outputs": [
    {
     "data": {
      "text/plain": [
       "{'top': 'T-Shirt M.I.L Off White (01EWHDJG0DKSFE593AH9XZ26TV)',\n",
       " 'bottom': 'The Trickster Ankle On Holy Ground (01EH58S7H9GJ2J69RW1W0XB1X9)',\n",
       " 'shoe': 'Oceane Lace-Up Shearling-Lined Leather Boots (01EAJAYCA0JJBBWHRF0QNS19NF)'}"
      ]
     },
     "execution_count": 33,
     "metadata": {},
     "output_type": "execute_result"
    }
   ],
   "source": [
    "search(test_6)"
   ]
  },
  {
   "cell_type": "code",
   "execution_count": 34,
   "id": "89ec2ff5",
   "metadata": {
    "ExecuteTime": {
     "end_time": "2021-05-11T18:56:02.782444Z",
     "start_time": "2021-05-11T18:55:27.448982Z"
    }
   },
   "outputs": [
    {
     "data": {
      "text/plain": [
       "{'shoe': 'Hush Heel in Multi Crystal (01EGVFXQW1Q0DFM0M77T8DBNXC)',\n",
       " 'top': 'Original Fit Tee (01EPAVESFN6KWRE8JE5BD5S4ZT)',\n",
       " 'bottom': 'Samar (01ET90MMP63RJHC8V06TAGNSNW)',\n",
       " 'accessory': 'Mini OHare Italian Nylon Tote (01F3E1KD8VGX5F5DJBP76YZY6T)',\n",
       " 'onepiece': 'Makena Mini Dress (01ED59ES47VHRDA0AP921W8K8S)'}"
      ]
     },
     "execution_count": 34,
     "metadata": {},
     "output_type": "execute_result"
    }
   ],
   "source": [
    "search(test_7)"
   ]
  },
  {
   "cell_type": "code",
   "execution_count": 35,
   "id": "6793b8b2",
   "metadata": {
    "ExecuteTime": {
     "end_time": "2021-05-11T18:56:41.456359Z",
     "start_time": "2021-05-11T18:56:02.784223Z"
    }
   },
   "outputs": [
    {
     "data": {
      "text/plain": [
       "{'bottom': 'Aquinnah Skirt (01EN1A83EAYY8PA8F02GYTZR99)',\n",
       " 'top': 'LENNOX - CHARCOAL BLACK (01ENBM6JW2TC3RVS4FMB8HQ9SB)',\n",
       " 'shoe': 'Point Toe Boot Black Calf (01EJS26A4G6GNR0ZTFFZG1YFF7)',\n",
       " 'accessory': 'Paloma Duster Cardigan - Morning Star Jacquard (01EZG4K0HF0JYH9T3NWF25AF0X)'}"
      ]
     },
     "execution_count": 35,
     "metadata": {},
     "output_type": "execute_result"
    }
   ],
   "source": [
    "search(test_8)"
   ]
  },
  {
   "cell_type": "code",
   "execution_count": 36,
   "id": "126b6d4a",
   "metadata": {
    "ExecuteTime": {
     "end_time": "2021-05-11T18:57:19.668326Z",
     "start_time": "2021-05-11T18:56:41.458279Z"
    }
   },
   "outputs": [
    {
     "data": {
      "text/plain": [
       "{'bottom': 'Navy & Army Skater Jean - Size 25 (01F38RMNZVCNTXYJ4E8HR74NCS)',\n",
       " 'top': 'Lagarde 3.0 Shirt - Rain Cloud (01EYXZH0YRJBRMPGB6DY1SS0D4)',\n",
       " 'shoe': 'Catania Oat Chunky Boots (01EM02E3RF07HSBMFDYYHE7YGG)',\n",
       " 'accessory': 'Blue Yaba Cotton Kente Hand-Woven Single - Breasted Coat (01EC8KD9W5VCQ8DHTGJPXKCBP2)'}"
      ]
     },
     "execution_count": 36,
     "metadata": {},
     "output_type": "execute_result"
    }
   ],
   "source": [
    "search(test_9)"
   ]
  },
  {
   "cell_type": "code",
   "execution_count": 37,
   "id": "e7dafd2e",
   "metadata": {
    "ExecuteTime": {
     "end_time": "2021-05-11T18:57:58.822807Z",
     "start_time": "2021-05-11T18:57:19.670042Z"
    }
   },
   "outputs": [
    {
     "data": {
      "text/plain": [
       "{'bottom': 'Stretch Cotton & Linen Wide Leg Trousers (01E1JM0DZ54QBW4M51K7REKMDE)',\n",
       " 'shoe': 'Erin Pointy Toe Slingback Pump (01E1JM1BGF75MDESXW4Q412Y8X)',\n",
       " 'top': 'Textured Stripe Removable Tie Neck Blouse (01E2C4XTP7JXPA5SJ0VJMCE4T5)'}"
      ]
     },
     "execution_count": 37,
     "metadata": {},
     "output_type": "execute_result"
    }
   ],
   "source": [
    "search(test_10)"
   ]
  }
 ],
 "metadata": {
  "kernelspec": {
   "display_name": "Python 3",
   "language": "python",
   "name": "python3"
  },
  "language_info": {
   "codemirror_mode": {
    "name": "ipython",
    "version": 3
   },
   "file_extension": ".py",
   "mimetype": "text/x-python",
   "name": "python",
   "nbconvert_exporter": "python",
   "pygments_lexer": "ipython3",
   "version": "3.8.3"
  }
 },
 "nbformat": 4,
 "nbformat_minor": 5
}
